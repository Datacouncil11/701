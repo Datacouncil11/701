{
 "cells": [
  {
   "cell_type": "code",
   "execution_count": 1,
   "id": "3640b1dc-b31e-407b-ad5c-41a1701e6937",
   "metadata": {},
   "outputs": [],
   "source": [
    "def test():\n",
    "    print('Hello Python')"
   ]
  },
  {
   "cell_type": "code",
   "execution_count": 2,
   "id": "520d855c-ecb6-4596-b490-b7077bfa62f2",
   "metadata": {},
   "outputs": [
    {
     "name": "stdout",
     "output_type": "stream",
     "text": [
      "Hello Python\n"
     ]
    }
   ],
   "source": [
    "test()"
   ]
  },
  {
   "cell_type": "code",
   "execution_count": 3,
   "id": "55a929fb-0ea3-44c9-a63f-d56e2c61aa7a",
   "metadata": {},
   "outputs": [
    {
     "name": "stdout",
     "output_type": "stream",
     "text": [
      "Hello Python\n"
     ]
    },
    {
     "data": {
      "text/plain": [
       "NoneType"
      ]
     },
     "execution_count": 3,
     "metadata": {},
     "output_type": "execute_result"
    }
   ],
   "source": [
    "type(test())"
   ]
  },
  {
   "cell_type": "code",
   "execution_count": 5,
   "id": "8d714810-d4a2-43ce-b46b-ab024b633ec7",
   "metadata": {},
   "outputs": [],
   "source": [
    "def test2():\n",
    "    return 'Hello Test2'"
   ]
  },
  {
   "cell_type": "code",
   "execution_count": 6,
   "id": "048dfb41-b01f-434f-9d7c-c137dfd44cfb",
   "metadata": {},
   "outputs": [
    {
     "data": {
      "text/plain": [
       "'Hello Test2'"
      ]
     },
     "execution_count": 6,
     "metadata": {},
     "output_type": "execute_result"
    }
   ],
   "source": [
    "test2()"
   ]
  },
  {
   "cell_type": "code",
   "execution_count": 7,
   "id": "a9a6351c-4d1c-4e9e-b8c8-e0a08e7d8d08",
   "metadata": {},
   "outputs": [
    {
     "data": {
      "text/plain": [
       "str"
      ]
     },
     "execution_count": 7,
     "metadata": {},
     "output_type": "execute_result"
    }
   ],
   "source": [
    "type(test2())"
   ]
  },
  {
   "cell_type": "code",
   "execution_count": 8,
   "id": "19f31387-7d9d-473b-8b14-67f5d2715160",
   "metadata": {},
   "outputs": [],
   "source": [
    "# Diff b/w Print and Return"
   ]
  },
  {
   "cell_type": "code",
   "execution_count": 9,
   "id": "6066fba2-221c-4bb8-b0a7-0cfc35177a2c",
   "metadata": {},
   "outputs": [],
   "source": [
    "def test3():\n",
    "    return 'This is test 3 function'"
   ]
  },
  {
   "cell_type": "code",
   "execution_count": 10,
   "id": "3de48d2f-f35c-44a7-a8ad-cda74ca89ae4",
   "metadata": {},
   "outputs": [
    {
     "data": {
      "text/plain": [
       "'This is test 3 function'"
      ]
     },
     "execution_count": 10,
     "metadata": {},
     "output_type": "execute_result"
    }
   ],
   "source": [
    "test3()"
   ]
  },
  {
   "cell_type": "code",
   "execution_count": 11,
   "id": "9d4ec146-52bb-479e-b54c-115f87c6f2b2",
   "metadata": {},
   "outputs": [
    {
     "data": {
      "text/plain": [
       "'Hello Test2'"
      ]
     },
     "execution_count": 11,
     "metadata": {},
     "output_type": "execute_result"
    }
   ],
   "source": [
    "test2()"
   ]
  },
  {
   "cell_type": "code",
   "execution_count": 12,
   "id": "aa103033-158b-4802-bbc9-e83d65bcf93b",
   "metadata": {},
   "outputs": [
    {
     "data": {
      "text/plain": [
       "'This is test 3 functionHello Test2'"
      ]
     },
     "execution_count": 12,
     "metadata": {},
     "output_type": "execute_result"
    }
   ],
   "source": [
    "test3() + test2()"
   ]
  },
  {
   "cell_type": "code",
   "execution_count": 13,
   "id": "41699fc0-0458-43e9-a51b-f2447d03b872",
   "metadata": {},
   "outputs": [
    {
     "data": {
      "text/plain": [
       "str"
      ]
     },
     "execution_count": 13,
     "metadata": {},
     "output_type": "execute_result"
    }
   ],
   "source": [
    "type(test3())"
   ]
  },
  {
   "cell_type": "code",
   "execution_count": 14,
   "id": "c6a20f80-50c5-41d6-a507-e6724526c413",
   "metadata": {},
   "outputs": [],
   "source": [
    "def test4():\n",
    "    '''This is test 4 function\n",
    "    This is going to print out\n",
    "    Hello I am function test4'''\n",
    "    return 'Hello I am function test4'"
   ]
  },
  {
   "cell_type": "code",
   "execution_count": 16,
   "id": "e8852946-e109-48bf-9ae3-7d33668b382f",
   "metadata": {},
   "outputs": [
    {
     "data": {
      "text/plain": [
       "'Hello I am function test4'"
      ]
     },
     "execution_count": 16,
     "metadata": {},
     "output_type": "execute_result"
    }
   ],
   "source": [
    "test4()"
   ]
  },
  {
   "cell_type": "code",
   "execution_count": 17,
   "id": "592ba055-28fe-4aff-b82f-34a490775a73",
   "metadata": {},
   "outputs": [],
   "source": [
    "def test5(a):\n",
    "    return a"
   ]
  },
  {
   "cell_type": "code",
   "execution_count": 19,
   "id": "0061f4b1-c4b6-4805-9d6d-0f8676531818",
   "metadata": {},
   "outputs": [
    {
     "data": {
      "text/plain": [
       "100"
      ]
     },
     "execution_count": 19,
     "metadata": {},
     "output_type": "execute_result"
    }
   ],
   "source": [
    "test5(100)"
   ]
  },
  {
   "cell_type": "code",
   "execution_count": 20,
   "id": "85f9e9e0-95e9-463f-bc4a-77e21c1d4582",
   "metadata": {},
   "outputs": [
    {
     "data": {
      "text/plain": [
       "'Hello'"
      ]
     },
     "execution_count": 20,
     "metadata": {},
     "output_type": "execute_result"
    }
   ],
   "source": [
    "test5('Hello')"
   ]
  },
  {
   "cell_type": "code",
   "execution_count": 21,
   "id": "7eda3167-8894-4982-8bd2-be914dbcfa76",
   "metadata": {},
   "outputs": [],
   "source": [
    "def test6(a,b):\n",
    "    return a + b"
   ]
  },
  {
   "cell_type": "code",
   "execution_count": 22,
   "id": "dd452f15-8155-4c14-9f1d-d30dd864f785",
   "metadata": {},
   "outputs": [
    {
     "data": {
      "text/plain": [
       "15"
      ]
     },
     "execution_count": 22,
     "metadata": {},
     "output_type": "execute_result"
    }
   ],
   "source": [
    "test6(10,5)"
   ]
  },
  {
   "cell_type": "code",
   "execution_count": 23,
   "id": "9233a670-3213-4367-a431-bcf4a9575479",
   "metadata": {},
   "outputs": [],
   "source": [
    "def devision(a,b):\n",
    "    return a/b"
   ]
  },
  {
   "cell_type": "code",
   "execution_count": 24,
   "id": "8a1c8076-162d-416a-adc3-7addb5461d5b",
   "metadata": {},
   "outputs": [
    {
     "data": {
      "text/plain": [
       "20.0"
      ]
     },
     "execution_count": 24,
     "metadata": {},
     "output_type": "execute_result"
    }
   ],
   "source": [
    "devision(100, 5)"
   ]
  },
  {
   "cell_type": "code",
   "execution_count": 25,
   "id": "d2013ea5-5dd7-4146-8bce-656bcc9e09e2",
   "metadata": {},
   "outputs": [],
   "source": [
    "def square(a):\n",
    "    return a * a"
   ]
  },
  {
   "cell_type": "code",
   "execution_count": 26,
   "id": "378fad9a-25a2-45d7-aded-634cf37da950",
   "metadata": {},
   "outputs": [
    {
     "data": {
      "text/plain": [
       "25"
      ]
     },
     "execution_count": 26,
     "metadata": {},
     "output_type": "execute_result"
    }
   ],
   "source": [
    "square(5)"
   ]
  },
  {
   "cell_type": "code",
   "execution_count": 27,
   "id": "74d986e7-0bef-4912-9709-67e97ed4adf5",
   "metadata": {},
   "outputs": [
    {
     "data": {
      "text/plain": [
       "49"
      ]
     },
     "execution_count": 27,
     "metadata": {},
     "output_type": "execute_result"
    }
   ],
   "source": [
    "square(7)"
   ]
  },
  {
   "cell_type": "code",
   "execution_count": 28,
   "id": "3d1d326a-88b5-4e71-945b-550ed7864a33",
   "metadata": {},
   "outputs": [
    {
     "data": {
      "text/plain": [
       "1515361"
      ]
     },
     "execution_count": 28,
     "metadata": {},
     "output_type": "execute_result"
    }
   ],
   "source": [
    "square(1231)"
   ]
  },
  {
   "cell_type": "code",
   "execution_count": 29,
   "id": "eac9b357-41e7-4a08-b0d1-58bc42075994",
   "metadata": {},
   "outputs": [],
   "source": [
    "def cube(a):\n",
    "    return a ** 3"
   ]
  },
  {
   "cell_type": "code",
   "execution_count": 30,
   "id": "0e9f0126-139a-4ce4-98f4-1a1d29385c93",
   "metadata": {},
   "outputs": [
    {
     "data": {
      "text/plain": [
       "8"
      ]
     },
     "execution_count": 30,
     "metadata": {},
     "output_type": "execute_result"
    }
   ],
   "source": [
    "cube(2)"
   ]
  },
  {
   "cell_type": "code",
   "execution_count": 31,
   "id": "ba87e75b-1c03-4e90-9d33-5635e29afc9b",
   "metadata": {},
   "outputs": [
    {
     "data": {
      "text/plain": [
       "27"
      ]
     },
     "execution_count": 31,
     "metadata": {},
     "output_type": "execute_result"
    }
   ],
   "source": [
    "cube(3)"
   ]
  },
  {
   "cell_type": "code",
   "execution_count": 32,
   "id": "5339da57-c475-4a8a-a252-fcecd55e1e45",
   "metadata": {},
   "outputs": [],
   "source": [
    "def even_odd(num):\n",
    "    if num % 2 == 0:\n",
    "        return 'Number is even', num\n",
    "    elif num % 2 != 0:\n",
    "        return 'Number is odd', num\n",
    "    else:\n",
    "        return 'Check Number'"
   ]
  },
  {
   "cell_type": "code",
   "execution_count": 33,
   "id": "29388c03-2d59-4add-96d0-c94c458eae30",
   "metadata": {},
   "outputs": [
    {
     "data": {
      "text/plain": [
       "('Number is odd', 1)"
      ]
     },
     "execution_count": 33,
     "metadata": {},
     "output_type": "execute_result"
    }
   ],
   "source": [
    "even_odd(1)"
   ]
  },
  {
   "cell_type": "code",
   "execution_count": 34,
   "id": "4275a73f-53d9-4a9a-8c58-7660e6fff4ac",
   "metadata": {},
   "outputs": [
    {
     "data": {
      "text/plain": [
       "('Number is even', 6)"
      ]
     },
     "execution_count": 34,
     "metadata": {},
     "output_type": "execute_result"
    }
   ],
   "source": [
    "even_odd(6)"
   ]
  },
  {
   "cell_type": "code",
   "execution_count": 36,
   "id": "58db097c-de02-4f37-95b1-1d221d7c0e0f",
   "metadata": {},
   "outputs": [],
   "source": [
    "def test7(* args):\n",
    "    return args"
   ]
  },
  {
   "cell_type": "code",
   "execution_count": 37,
   "id": "546fa059-6b13-4797-94fc-baf2f675e1f5",
   "metadata": {},
   "outputs": [
    {
     "data": {
      "text/plain": [
       "(1, 2, 3, 4, 'hello', True)"
      ]
     },
     "execution_count": 37,
     "metadata": {},
     "output_type": "execute_result"
    }
   ],
   "source": [
    "test7(1,2,3,4,'hello', True)"
   ]
  },
  {
   "cell_type": "code",
   "execution_count": 38,
   "id": "ac4227d1-d7f8-48dd-a5ad-0d915d812f95",
   "metadata": {},
   "outputs": [],
   "source": [
    "def test8(*args):\n",
    "    l = []\n",
    "    for i in args:\n",
    "        if type(i) == str:\n",
    "            l.append(i)\n",
    "    return l"
   ]
  },
  {
   "cell_type": "code",
   "execution_count": 39,
   "id": "125d226d-bba5-4349-b80e-591fd1dcb4af",
   "metadata": {},
   "outputs": [
    {
     "data": {
      "text/plain": [
       "['hello']"
      ]
     },
     "execution_count": 39,
     "metadata": {},
     "output_type": "execute_result"
    }
   ],
   "source": [
    "test8(1,2,3,4,'hello', True)"
   ]
  },
  {
   "cell_type": "code",
   "execution_count": 40,
   "id": "91c2b15d-2cd4-422e-9941-c9e0a68b66da",
   "metadata": {},
   "outputs": [],
   "source": [
    "def test9(*args):\n",
    "    l = []\n",
    "    for i in args:\n",
    "        if type(i) == int:\n",
    "            l.append(i)\n",
    "    return l"
   ]
  },
  {
   "cell_type": "code",
   "execution_count": 41,
   "id": "9a745266-4be3-4124-940c-dc3533165001",
   "metadata": {},
   "outputs": [
    {
     "data": {
      "text/plain": [
       "[1, 2, 3, 4]"
      ]
     },
     "execution_count": 41,
     "metadata": {},
     "output_type": "execute_result"
    }
   ],
   "source": [
    "test9(1,2,3,4,'hello', True)"
   ]
  },
  {
   "cell_type": "code",
   "execution_count": 42,
   "id": "ee00279a-66d1-4907-a6ad-b9488ad15f57",
   "metadata": {},
   "outputs": [],
   "source": [
    "def list_filter(*args):\n",
    "    l = []\n",
    "    for i in args:\n",
    "        if type(i) == list:\n",
    "            for nums in i:\n",
    "                l.append(nums)\n",
    "    return l"
   ]
  },
  {
   "cell_type": "code",
   "execution_count": 43,
   "id": "f8a1d539-2233-4156-8fb6-6a259a2baa55",
   "metadata": {},
   "outputs": [
    {
     "data": {
      "text/plain": [
       "[10, 20, 30]"
      ]
     },
     "execution_count": 43,
     "metadata": {},
     "output_type": "execute_result"
    }
   ],
   "source": [
    "list_filter((1,2,3),[10,20,30],{1,2,3}, {'A':1, 'B':2} )"
   ]
  },
  {
   "cell_type": "code",
   "execution_count": null,
   "id": "37d37afd-3072-4ae9-8c29-598d79516030",
   "metadata": {},
   "outputs": [],
   "source": []
  }
 ],
 "metadata": {
  "kernelspec": {
   "display_name": "Python 3 (ipykernel)",
   "language": "python",
   "name": "python3"
  },
  "language_info": {
   "codemirror_mode": {
    "name": "ipython",
    "version": 3
   },
   "file_extension": ".py",
   "mimetype": "text/x-python",
   "name": "python",
   "nbconvert_exporter": "python",
   "pygments_lexer": "ipython3",
   "version": "3.11.7"
  }
 },
 "nbformat": 4,
 "nbformat_minor": 5
}
