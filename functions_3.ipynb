{
 "cells": [
  {
   "cell_type": "code",
   "execution_count": 1,
   "id": "4245040a-28e7-4682-a62f-0920e191d9ba",
   "metadata": {},
   "outputs": [],
   "source": [
    "y = lambda **kwargs:kwargs"
   ]
  },
  {
   "cell_type": "code",
   "execution_count": 2,
   "id": "06d41ae3-a710-4b5e-ac88-3558b591101f",
   "metadata": {},
   "outputs": [
    {
     "data": {
      "text/plain": [
       "{'a': 1, 'b': 2, 'c': 3}"
      ]
     },
     "execution_count": 2,
     "metadata": {},
     "output_type": "execute_result"
    }
   ],
   "source": [
    "y(a=1,b=2,c=3)"
   ]
  },
  {
   "cell_type": "code",
   "execution_count": 3,
   "id": "16b465e0-29a9-41fb-9442-d1682e61f627",
   "metadata": {},
   "outputs": [],
   "source": [
    "k = lambda **kwargs : kwargs.keys()"
   ]
  },
  {
   "cell_type": "code",
   "execution_count": 4,
   "id": "5a2d291a-e768-405e-acd7-ff39d3252e70",
   "metadata": {},
   "outputs": [
    {
     "data": {
      "text/plain": [
       "dict_keys(['a', 'b', 'c'])"
      ]
     },
     "execution_count": 4,
     "metadata": {},
     "output_type": "execute_result"
    }
   ],
   "source": [
    "k(a=1,b=2,c=3)"
   ]
  },
  {
   "cell_type": "code",
   "execution_count": 5,
   "id": "ff5dd3c8-0178-4507-b60a-11bf66b49960",
   "metadata": {},
   "outputs": [],
   "source": [
    "k = lambda **kwargs : kwargs.values()"
   ]
  },
  {
   "cell_type": "code",
   "execution_count": 6,
   "id": "003fa9a3-ead3-4331-b028-fae31fc68b5c",
   "metadata": {},
   "outputs": [
    {
     "data": {
      "text/plain": [
       "dict_values([1, 2, 3])"
      ]
     },
     "execution_count": 6,
     "metadata": {},
     "output_type": "execute_result"
    }
   ],
   "source": [
    "k(a=1,b=2,c=3)"
   ]
  },
  {
   "cell_type": "code",
   "execution_count": 9,
   "id": "e8951b76-81b1-4bce-8a78-b3245cdc9da5",
   "metadata": {},
   "outputs": [],
   "source": [
    "l = lambda a : [i for i in a]"
   ]
  },
  {
   "cell_type": "code",
   "execution_count": 10,
   "id": "4cb7d4fb-d9fb-4dcc-be35-102bbb0fcb32",
   "metadata": {},
   "outputs": [
    {
     "data": {
      "text/plain": [
       "[100, 200, 300, 400]"
      ]
     },
     "execution_count": 10,
     "metadata": {},
     "output_type": "execute_result"
    }
   ],
   "source": [
    "l([100,200,300,400])"
   ]
  },
  {
   "cell_type": "code",
   "execution_count": 11,
   "id": "61d3f3ec-c55c-409f-9fd3-33c432d1bd32",
   "metadata": {},
   "outputs": [],
   "source": [
    "j = lambda a: [i/2 for i in a]"
   ]
  },
  {
   "cell_type": "code",
   "execution_count": 12,
   "id": "576e39b2-4b07-4ee5-95d9-4549483367eb",
   "metadata": {},
   "outputs": [
    {
     "data": {
      "text/plain": [
       "[50.0, 100.0, 150.0, 200.0]"
      ]
     },
     "execution_count": 12,
     "metadata": {},
     "output_type": "execute_result"
    }
   ],
   "source": [
    "j([100,200,300,400])"
   ]
  },
  {
   "cell_type": "code",
   "execution_count": 13,
   "id": "636c910e-09be-4daf-9b94-97397b61ce65",
   "metadata": {},
   "outputs": [],
   "source": [
    "g = lambda a: [i * 2 for i in a]"
   ]
  },
  {
   "cell_type": "code",
   "execution_count": 14,
   "id": "b176cd06-29cb-4031-84d3-4a92f7176fad",
   "metadata": {},
   "outputs": [
    {
     "data": {
      "text/plain": [
       "[200, 400, 600, 800]"
      ]
     },
     "execution_count": 14,
     "metadata": {},
     "output_type": "execute_result"
    }
   ],
   "source": [
    "g([100,200,300,400])"
   ]
  },
  {
   "cell_type": "code",
   "execution_count": 18,
   "id": "bc5575bc-0ab6-4d81-af5c-4d40420dd891",
   "metadata": {},
   "outputs": [],
   "source": [
    "k = lambda *args: [i for i in args]"
   ]
  },
  {
   "cell_type": "code",
   "execution_count": 19,
   "id": "dcdd2aa3-957e-4435-a721-c00707d5b7f2",
   "metadata": {},
   "outputs": [
    {
     "data": {
      "text/plain": [
       "[[1, 2, 3], (10, 20, 30), {1, 12, 14}]"
      ]
     },
     "execution_count": 19,
     "metadata": {},
     "output_type": "execute_result"
    }
   ],
   "source": [
    "k([1,2,3],(10,20,30),{12,1,14})"
   ]
  },
  {
   "cell_type": "code",
   "execution_count": 20,
   "id": "d456527a-e21f-45db-a23d-3b4871c1a4ee",
   "metadata": {},
   "outputs": [
    {
     "data": {
      "text/plain": [
       "[1, 2, 3, 4]"
      ]
     },
     "execution_count": 20,
     "metadata": {},
     "output_type": "execute_result"
    }
   ],
   "source": [
    "k(1,2,3,4)"
   ]
  },
  {
   "cell_type": "code",
   "execution_count": 21,
   "id": "7ca7799f-073a-411d-9389-bdfd37bcc403",
   "metadata": {},
   "outputs": [],
   "source": [
    "l = lambda *args : [i for i in args if type(i) == int]"
   ]
  },
  {
   "cell_type": "code",
   "execution_count": 48,
   "id": "026a860b-af27-441c-ba08-ba5fc3be7951",
   "metadata": {},
   "outputs": [
    {
     "data": {
      "text/plain": [
       "[1, 2, 3, 4, 5]"
      ]
     },
     "execution_count": 48,
     "metadata": {},
     "output_type": "execute_result"
    }
   ],
   "source": [
    "l"
   ]
  },
  {
   "cell_type": "code",
   "execution_count": 49,
   "id": "a0a27795-6d71-4b7c-8c89-52d0dce3cef8",
   "metadata": {},
   "outputs": [
    {
     "data": {
      "text/plain": [
       "['Not greater',\n",
       " 'Not greater',\n",
       " 'Not greater',\n",
       " 'Greater than 3',\n",
       " 'Greater than 3']"
      ]
     },
     "execution_count": 49,
     "metadata": {},
     "output_type": "execute_result"
    }
   ],
   "source": [
    "['Greater than 3' if i>3 else 'Not greater' for i in l]"
   ]
  },
  {
   "cell_type": "code",
   "execution_count": null,
   "id": "0a6d943e-dba0-45c6-bb87-af9c65b04bcb",
   "metadata": {},
   "outputs": [],
   "source": [
    "[if i for i in l]"
   ]
  },
  {
   "cell_type": "code",
   "execution_count": 22,
   "id": "f07f80d6-198f-4e38-a72d-075c1995b74a",
   "metadata": {},
   "outputs": [
    {
     "data": {
      "text/plain": [
       "[1]"
      ]
     },
     "execution_count": 22,
     "metadata": {},
     "output_type": "execute_result"
    }
   ],
   "source": [
    "l(1,1.5,True,'Hello')"
   ]
  },
  {
   "cell_type": "code",
   "execution_count": null,
   "id": "c3ed3d9f-eb21-4054-9de5-c90b922f9756",
   "metadata": {},
   "outputs": [],
   "source": [
    "for i in args:\n",
    "    if type(i) == int:\n",
    "        print(i)"
   ]
  },
  {
   "cell_type": "code",
   "execution_count": 23,
   "id": "92dec663-e8d9-4b37-94ca-0dca522a9576",
   "metadata": {},
   "outputs": [],
   "source": [
    "j = lambda *args: [i for i in args if type(i) == list]"
   ]
  },
  {
   "cell_type": "code",
   "execution_count": 24,
   "id": "24b9de7e-cfdd-4560-b92f-cd5f3ee57d69",
   "metadata": {},
   "outputs": [
    {
     "data": {
      "text/plain": [
       "[[10, 20, 30]]"
      ]
     },
     "execution_count": 24,
     "metadata": {},
     "output_type": "execute_result"
    }
   ],
   "source": [
    "j(1,(2,3,4), [10,20,30], {1,2,3})"
   ]
  },
  {
   "cell_type": "code",
   "execution_count": 25,
   "id": "d93fe47c-82bb-4d7c-bd31-18b734484e4a",
   "metadata": {},
   "outputs": [],
   "source": [
    "# List comprehension"
   ]
  },
  {
   "cell_type": "code",
   "execution_count": 26,
   "id": "9873f066-45ff-4006-bf6c-228d567314e5",
   "metadata": {},
   "outputs": [],
   "source": [
    "l = [1,2,3,4,5]"
   ]
  },
  {
   "cell_type": "code",
   "execution_count": 27,
   "id": "022ae9e6-fd16-470c-9b15-4d484688b1f2",
   "metadata": {},
   "outputs": [
    {
     "data": {
      "text/plain": [
       "[1, 2, 3, 4, 5]"
      ]
     },
     "execution_count": 27,
     "metadata": {},
     "output_type": "execute_result"
    }
   ],
   "source": [
    "[i for i in l]"
   ]
  },
  {
   "cell_type": "code",
   "execution_count": 28,
   "id": "f142c8fe-a5f6-4139-b6ae-2835f87a590c",
   "metadata": {},
   "outputs": [
    {
     "data": {
      "text/plain": [
       "[1, 2, 3, 4, 5]"
      ]
     },
     "execution_count": 28,
     "metadata": {},
     "output_type": "execute_result"
    }
   ],
   "source": [
    "[(i) for i in l]"
   ]
  },
  {
   "cell_type": "code",
   "execution_count": 29,
   "id": "4be5d3f4-d7d4-4d07-bf2f-d6503b363c99",
   "metadata": {},
   "outputs": [
    {
     "data": {
      "text/plain": [
       "[11, 12, 13, 14, 15]"
      ]
     },
     "execution_count": 29,
     "metadata": {},
     "output_type": "execute_result"
    }
   ],
   "source": [
    "[(i+10) for i in l]"
   ]
  },
  {
   "cell_type": "code",
   "execution_count": 30,
   "id": "232f28bd-a262-4863-b4cc-5c90ec5f7ebc",
   "metadata": {},
   "outputs": [
    {
     "data": {
      "text/plain": [
       "range(1, 6)"
      ]
     },
     "execution_count": 30,
     "metadata": {},
     "output_type": "execute_result"
    }
   ],
   "source": [
    "range(1,6)"
   ]
  },
  {
   "cell_type": "code",
   "execution_count": 31,
   "id": "ec36bd8a-9839-42a1-8716-cfef5c5d4b89",
   "metadata": {},
   "outputs": [
    {
     "name": "stdout",
     "output_type": "stream",
     "text": [
      "1\n",
      "2\n",
      "3\n",
      "4\n",
      "5\n"
     ]
    }
   ],
   "source": [
    "for i in range(1,6):\n",
    "    print(i)"
   ]
  },
  {
   "cell_type": "code",
   "execution_count": 32,
   "id": "f6bc6d52-f36b-4142-b3a3-bbe4a4050dda",
   "metadata": {},
   "outputs": [
    {
     "data": {
      "text/plain": [
       "[1, 2, 3, 4, 5]"
      ]
     },
     "execution_count": 32,
     "metadata": {},
     "output_type": "execute_result"
    }
   ],
   "source": [
    "[i for i in range(1,6)]"
   ]
  },
  {
   "cell_type": "code",
   "execution_count": 33,
   "id": "755b08e1-8a3a-4784-a520-0f44652c2b3b",
   "metadata": {},
   "outputs": [
    {
     "data": {
      "text/plain": [
       "[1,\n",
       " 4,\n",
       " 9,\n",
       " 16,\n",
       " 25,\n",
       " 36,\n",
       " 49,\n",
       " 64,\n",
       " 81,\n",
       " 100,\n",
       " 121,\n",
       " 144,\n",
       " 169,\n",
       " 196,\n",
       " 225,\n",
       " 256,\n",
       " 289,\n",
       " 324,\n",
       " 361,\n",
       " 400]"
      ]
     },
     "execution_count": 33,
     "metadata": {},
     "output_type": "execute_result"
    }
   ],
   "source": [
    "[(i * i) for i in range(1,21)]"
   ]
  },
  {
   "cell_type": "code",
   "execution_count": 34,
   "id": "e03d75e9-f307-4f8b-a366-384b9a75c8cd",
   "metadata": {},
   "outputs": [
    {
     "data": {
      "text/plain": [
       "[2, 4, 6, 8, 10, 12, 14, 16, 18, 20]"
      ]
     },
     "execution_count": 34,
     "metadata": {},
     "output_type": "execute_result"
    }
   ],
   "source": [
    "[i for i in range(1,21) if i%2 ==0]"
   ]
  },
  {
   "cell_type": "code",
   "execution_count": 35,
   "id": "da3b5fc2-cd9f-4905-80a1-d157e7855b97",
   "metadata": {},
   "outputs": [
    {
     "data": {
      "text/plain": [
       "[1, 3, 5, 7, 9, 11, 13, 15, 17, 19]"
      ]
     },
     "execution_count": 35,
     "metadata": {},
     "output_type": "execute_result"
    }
   ],
   "source": [
    "[i for i in range(1,21) if i%2 !=0]"
   ]
  },
  {
   "cell_type": "code",
   "execution_count": 37,
   "id": "99247d78-0517-49f8-9ae7-3a61aa8e9e9b",
   "metadata": {},
   "outputs": [
    {
     "data": {
      "text/plain": [
       "[6, 7, 8, 9, 10]"
      ]
     },
     "execution_count": 37,
     "metadata": {},
     "output_type": "execute_result"
    }
   ],
   "source": [
    "[i for i in range(1,11) if i >5]"
   ]
  },
  {
   "cell_type": "code",
   "execution_count": 38,
   "id": "f6dde65c-60fb-4386-8fc3-a9f80fb71240",
   "metadata": {},
   "outputs": [
    {
     "data": {
      "text/plain": [
       "{1: 1, 2: 2, 3: 3, 4: 4, 5: 5}"
      ]
     },
     "execution_count": 38,
     "metadata": {},
     "output_type": "execute_result"
    }
   ],
   "source": [
    "{i:i for i in l}"
   ]
  },
  {
   "cell_type": "code",
   "execution_count": 39,
   "id": "6757bd3c-6f88-4c83-8db9-6175a1ddfdf7",
   "metadata": {},
   "outputs": [
    {
     "data": {
      "text/plain": [
       "{1: 2, 2: 4, 3: 6, 4: 8, 5: 10}"
      ]
     },
     "execution_count": 39,
     "metadata": {},
     "output_type": "execute_result"
    }
   ],
   "source": [
    "{i:i*2 for i in l}"
   ]
  },
  {
   "cell_type": "code",
   "execution_count": 40,
   "id": "9da53bbb-22f4-439c-b3a3-aad23ee1265e",
   "metadata": {},
   "outputs": [
    {
     "data": {
      "text/plain": [
       "{1: 1, 2: 4, 3: 9, 4: 16, 5: 25}"
      ]
     },
     "execution_count": 40,
     "metadata": {},
     "output_type": "execute_result"
    }
   ],
   "source": [
    "{i: i * i for i in l}"
   ]
  },
  {
   "cell_type": "code",
   "execution_count": 41,
   "id": "5dc060af-2c43-4363-bdb9-257687a12b7b",
   "metadata": {},
   "outputs": [
    {
     "data": {
      "text/plain": [
       "'Hello'"
      ]
     },
     "execution_count": 41,
     "metadata": {},
     "output_type": "execute_result"
    }
   ],
   "source": [
    "'Hello'.title()"
   ]
  },
  {
   "cell_type": "code",
   "execution_count": 42,
   "id": "61d1a73c-7261-4868-ac38-a4f9aebb832f",
   "metadata": {},
   "outputs": [
    {
     "data": {
      "text/plain": [
       "'Hello'"
      ]
     },
     "execution_count": 42,
     "metadata": {},
     "output_type": "execute_result"
    }
   ],
   "source": [
    "'hello'.title()"
   ]
  },
  {
   "cell_type": "code",
   "execution_count": 43,
   "id": "182248af-9196-47fc-8e6e-3bc4370d6a85",
   "metadata": {},
   "outputs": [
    {
     "data": {
      "text/plain": [
       "False"
      ]
     },
     "execution_count": 43,
     "metadata": {},
     "output_type": "execute_result"
    }
   ],
   "source": [
    "'hello'.isdigit()"
   ]
  },
  {
   "cell_type": "code",
   "execution_count": 44,
   "id": "65acce81-3a9c-40df-bb4b-440e979fc118",
   "metadata": {},
   "outputs": [
    {
     "data": {
      "text/plain": [
       "'Hello'"
      ]
     },
     "execution_count": 44,
     "metadata": {},
     "output_type": "execute_result"
    }
   ],
   "source": [
    "'hello'.capitalize()"
   ]
  },
  {
   "cell_type": "code",
   "execution_count": 45,
   "id": "997f9583-2415-402a-a834-317dde8c6819",
   "metadata": {},
   "outputs": [
    {
     "data": {
      "text/plain": [
       "True"
      ]
     },
     "execution_count": 45,
     "metadata": {},
     "output_type": "execute_result"
    }
   ],
   "source": [
    "'10'.isdigit()"
   ]
  },
  {
   "cell_type": "code",
   "execution_count": 46,
   "id": "ab136fc4-db54-48df-b841-0f6a6aeb5e76",
   "metadata": {},
   "outputs": [
    {
     "data": {
      "text/plain": [
       "False"
      ]
     },
     "execution_count": 46,
     "metadata": {},
     "output_type": "execute_result"
    }
   ],
   "source": [
    "'hello'.isupper()"
   ]
  },
  {
   "cell_type": "code",
   "execution_count": 47,
   "id": "7b0776fb-dc5f-4b09-b949-b76f8c8b6e97",
   "metadata": {},
   "outputs": [
    {
     "data": {
      "text/plain": [
       "True"
      ]
     },
     "execution_count": 47,
     "metadata": {},
     "output_type": "execute_result"
    }
   ],
   "source": [
    "'HELLO'.isupper()"
   ]
  },
  {
   "cell_type": "code",
   "execution_count": null,
   "id": "5113cd02-68de-4ef2-98bb-7db198e2e125",
   "metadata": {},
   "outputs": [],
   "source": []
  }
 ],
 "metadata": {
  "kernelspec": {
   "display_name": "Python 3 (ipykernel)",
   "language": "python",
   "name": "python3"
  },
  "language_info": {
   "codemirror_mode": {
    "name": "ipython",
    "version": 3
   },
   "file_extension": ".py",
   "mimetype": "text/x-python",
   "name": "python",
   "nbconvert_exporter": "python",
   "pygments_lexer": "ipython3",
   "version": "3.11.7"
  }
 },
 "nbformat": 4,
 "nbformat_minor": 5
}
