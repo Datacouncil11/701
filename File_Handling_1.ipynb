{
 "cells": [
  {
   "cell_type": "code",
   "execution_count": 1,
   "id": "16b38a4b-d1fa-46be-a88d-c545be81c075",
   "metadata": {},
   "outputs": [
    {
     "name": "stdout",
     "output_type": "stream",
     "text": [
      " Volume in drive C has no label.\n",
      " Volume Serial Number is B294-EB73\n",
      "\n",
      " Directory of C:\\Users\\Admin\\Downloads\\701\\File Handling\n",
      "\n",
      "10/01/2024  06:18 PM    <DIR>          .\n",
      "10/01/2024  06:18 PM    <DIR>          ..\n",
      "10/01/2024  06:18 PM    <DIR>          .ipynb_checkpoints\n",
      "10/01/2024  06:18 PM                72 File_Handling_1.ipynb\n",
      "               1 File(s)             72 bytes\n",
      "               3 Dir(s)   2,786,152,448 bytes free\n"
     ]
    }
   ],
   "source": [
    "ls"
   ]
  },
  {
   "cell_type": "code",
   "execution_count": 2,
   "id": "3be842dd-76ee-428e-a481-ecbcf1fd55e5",
   "metadata": {},
   "outputs": [
    {
     "name": "stdout",
     "output_type": "stream",
     "text": [
      " Volume in drive C has no label.\n",
      " Volume Serial Number is B294-EB73\n",
      "\n",
      " Directory of C:\\Users\\Admin\\Downloads\\701\\File Handling\n",
      "\n",
      "10/01/2024  06:20 PM    <DIR>          .\n",
      "10/01/2024  06:20 PM    <DIR>          ..\n",
      "10/01/2024  06:18 PM    <DIR>          .ipynb_checkpoints\n",
      "10/01/2024  06:20 PM             2,247 File_Handling_1.ipynb\n",
      "               1 File(s)          2,247 bytes\n",
      "               3 Dir(s)   2,786,713,600 bytes free\n"
     ]
    }
   ],
   "source": [
    "%ls"
   ]
  },
  {
   "cell_type": "code",
   "execution_count": 3,
   "id": "93b512b3-7504-4c5a-8e90-60a9f95b2acf",
   "metadata": {},
   "outputs": [],
   "source": [
    "f = open('test.txt', mode= 'w')"
   ]
  },
  {
   "cell_type": "code",
   "execution_count": 4,
   "id": "ca7833cb-8580-4e59-96bf-15fb814e3a49",
   "metadata": {},
   "outputs": [
    {
     "data": {
      "text/plain": [
       "35"
      ]
     },
     "execution_count": 4,
     "metadata": {},
     "output_type": "execute_result"
    }
   ],
   "source": [
    "f.write('This is my first line in test file.')"
   ]
  },
  {
   "cell_type": "code",
   "execution_count": 5,
   "id": "1fd6b57c-9846-4b99-b4f4-0c2a29032b94",
   "metadata": {},
   "outputs": [],
   "source": [
    "f.close()"
   ]
  },
  {
   "cell_type": "code",
   "execution_count": 6,
   "id": "b82c1e5d-7144-40c2-b8b6-bbde72258885",
   "metadata": {},
   "outputs": [],
   "source": [
    "f = open('test.txt', mode= 'r')"
   ]
  },
  {
   "cell_type": "code",
   "execution_count": 7,
   "id": "2a76eb9d-13ac-458f-a902-d5448bd537d2",
   "metadata": {},
   "outputs": [
    {
     "data": {
      "text/plain": [
       "'This is my first line in test file.'"
      ]
     },
     "execution_count": 7,
     "metadata": {},
     "output_type": "execute_result"
    }
   ],
   "source": [
    "f.read()"
   ]
  },
  {
   "cell_type": "code",
   "execution_count": 8,
   "id": "c62727da-996c-426e-9cc8-79c6f46b360a",
   "metadata": {},
   "outputs": [
    {
     "data": {
      "text/plain": [
       "''"
      ]
     },
     "execution_count": 8,
     "metadata": {},
     "output_type": "execute_result"
    }
   ],
   "source": [
    "f.read()"
   ]
  },
  {
   "cell_type": "code",
   "execution_count": 9,
   "id": "e2a7da95-e035-4f7d-87a6-0970ee420b16",
   "metadata": {},
   "outputs": [
    {
     "data": {
      "text/plain": [
       "0"
      ]
     },
     "execution_count": 9,
     "metadata": {},
     "output_type": "execute_result"
    }
   ],
   "source": [
    "f.seek(0)"
   ]
  },
  {
   "cell_type": "code",
   "execution_count": 10,
   "id": "c5a3f2d0-cd67-4f78-895d-5e63f0d87649",
   "metadata": {},
   "outputs": [
    {
     "data": {
      "text/plain": [
       "'This is my first line in test file.'"
      ]
     },
     "execution_count": 10,
     "metadata": {},
     "output_type": "execute_result"
    }
   ],
   "source": [
    "f.read()"
   ]
  },
  {
   "cell_type": "code",
   "execution_count": 11,
   "id": "3ec06928-cf54-4075-9a0e-1cded9c547fb",
   "metadata": {},
   "outputs": [
    {
     "data": {
      "text/plain": [
       "5"
      ]
     },
     "execution_count": 11,
     "metadata": {},
     "output_type": "execute_result"
    }
   ],
   "source": [
    "f.seek(5)"
   ]
  },
  {
   "cell_type": "code",
   "execution_count": 12,
   "id": "c01c5d8a-1047-4069-b304-9b9090eb502d",
   "metadata": {},
   "outputs": [
    {
     "data": {
      "text/plain": [
       "'is my first line in test file.'"
      ]
     },
     "execution_count": 12,
     "metadata": {},
     "output_type": "execute_result"
    }
   ],
   "source": [
    "f.read()"
   ]
  },
  {
   "cell_type": "code",
   "execution_count": 13,
   "id": "5bc62c83-b1d0-41c4-96d7-b47e0c7d794e",
   "metadata": {},
   "outputs": [
    {
     "ename": "UnsupportedOperation",
     "evalue": "not writable",
     "output_type": "error",
     "traceback": [
      "\u001b[1;31m---------------------------------------------------------------------------\u001b[0m",
      "\u001b[1;31mUnsupportedOperation\u001b[0m                      Traceback (most recent call last)",
      "Cell \u001b[1;32mIn[13], line 1\u001b[0m\n\u001b[1;32m----> 1\u001b[0m f\u001b[38;5;241m.\u001b[39mwrite(\u001b[38;5;124m'\u001b[39m\u001b[38;5;124mHello\u001b[39m\u001b[38;5;124m'\u001b[39m)\n",
      "\u001b[1;31mUnsupportedOperation\u001b[0m: not writable"
     ]
    }
   ],
   "source": [
    "f.write('Hello')"
   ]
  },
  {
   "cell_type": "code",
   "execution_count": 14,
   "id": "392f3d0b-10b6-43d6-9f68-5226e97154c3",
   "metadata": {},
   "outputs": [],
   "source": [
    "f.close()"
   ]
  },
  {
   "cell_type": "code",
   "execution_count": 15,
   "id": "afe8c876-ad04-4435-9795-84738a9d18b1",
   "metadata": {},
   "outputs": [],
   "source": [
    "f = open('test.txt', 'r+')"
   ]
  },
  {
   "cell_type": "code",
   "execution_count": 16,
   "id": "1f05a85e-0d69-4568-886c-5c97ab389783",
   "metadata": {},
   "outputs": [
    {
     "data": {
      "text/plain": [
       "'This is my first line in test file.'"
      ]
     },
     "execution_count": 16,
     "metadata": {},
     "output_type": "execute_result"
    }
   ],
   "source": [
    "f.read()"
   ]
  },
  {
   "cell_type": "code",
   "execution_count": 17,
   "id": "6d2919a7-570b-49be-9d50-ba5e86bc16a8",
   "metadata": {},
   "outputs": [
    {
     "data": {
      "text/plain": [
       "27"
      ]
     },
     "execution_count": 17,
     "metadata": {},
     "output_type": "execute_result"
    }
   ],
   "source": [
    "f.write('This is my sencond sentence')"
   ]
  },
  {
   "cell_type": "code",
   "execution_count": 19,
   "id": "76ea4c0c-07bb-4c69-81cb-20dcc1603d9e",
   "metadata": {},
   "outputs": [
    {
     "data": {
      "text/plain": [
       "0"
      ]
     },
     "execution_count": 19,
     "metadata": {},
     "output_type": "execute_result"
    }
   ],
   "source": [
    "f.seek(0)"
   ]
  },
  {
   "cell_type": "code",
   "execution_count": 20,
   "id": "d83576e4-7eca-44a2-ad6e-2ea5c9517574",
   "metadata": {},
   "outputs": [
    {
     "data": {
      "text/plain": [
       "'This is my first line in test file.This is my sencond sentence'"
      ]
     },
     "execution_count": 20,
     "metadata": {},
     "output_type": "execute_result"
    }
   ],
   "source": [
    "f.read()"
   ]
  },
  {
   "cell_type": "code",
   "execution_count": 21,
   "id": "28bf9521-e185-4ddd-9aad-ded4a43bcfcb",
   "metadata": {},
   "outputs": [
    {
     "data": {
      "text/plain": [
       "0"
      ]
     },
     "execution_count": 21,
     "metadata": {},
     "output_type": "execute_result"
    }
   ],
   "source": [
    "f.seek(0)"
   ]
  },
  {
   "cell_type": "code",
   "execution_count": 22,
   "id": "239e525f-6835-4084-96ef-ff1efe7476cb",
   "metadata": {},
   "outputs": [
    {
     "data": {
      "text/plain": [
       "5"
      ]
     },
     "execution_count": 22,
     "metadata": {},
     "output_type": "execute_result"
    }
   ],
   "source": [
    "f.write('Hello')"
   ]
  },
  {
   "cell_type": "code",
   "execution_count": 23,
   "id": "dd7e76e3-7c6f-404a-9376-9cad3cadefca",
   "metadata": {},
   "outputs": [
    {
     "data": {
      "text/plain": [
       "'is my first line in test file.This is my sencond sentence'"
      ]
     },
     "execution_count": 23,
     "metadata": {},
     "output_type": "execute_result"
    }
   ],
   "source": [
    "f.read()"
   ]
  },
  {
   "cell_type": "code",
   "execution_count": 24,
   "id": "9d5b784d-c3bd-4689-a577-500988f21183",
   "metadata": {},
   "outputs": [
    {
     "data": {
      "text/plain": [
       "0"
      ]
     },
     "execution_count": 24,
     "metadata": {},
     "output_type": "execute_result"
    }
   ],
   "source": [
    "f.seek(0)"
   ]
  },
  {
   "cell_type": "code",
   "execution_count": 25,
   "id": "fcba0f14-fc42-4b94-bccf-45c8102e7e4f",
   "metadata": {},
   "outputs": [
    {
     "data": {
      "text/plain": [
       "'Hellois my first line in test file.This is my sencond sentence'"
      ]
     },
     "execution_count": 25,
     "metadata": {},
     "output_type": "execute_result"
    }
   ],
   "source": [
    "f.read()"
   ]
  },
  {
   "cell_type": "code",
   "execution_count": 26,
   "id": "03dcd73c-5da0-4302-b313-298d29658072",
   "metadata": {},
   "outputs": [
    {
     "data": {
      "text/plain": [
       "26"
      ]
     },
     "execution_count": 26,
     "metadata": {},
     "output_type": "execute_result"
    }
   ],
   "source": [
    "f.write('.This is my third sentence')"
   ]
  },
  {
   "cell_type": "code",
   "execution_count": 27,
   "id": "8277f320-6765-4f9d-911f-6061fcc64cd8",
   "metadata": {},
   "outputs": [
    {
     "data": {
      "text/plain": [
       "0"
      ]
     },
     "execution_count": 27,
     "metadata": {},
     "output_type": "execute_result"
    }
   ],
   "source": [
    "f.seek(0)"
   ]
  },
  {
   "cell_type": "code",
   "execution_count": 28,
   "id": "e2c61ac9-87df-4a3f-97ab-d0c5e88df27f",
   "metadata": {},
   "outputs": [
    {
     "data": {
      "text/plain": [
       "'Hellois my first line in test file.This is my sencond sentence.This is my third sentence'"
      ]
     },
     "execution_count": 28,
     "metadata": {},
     "output_type": "execute_result"
    }
   ],
   "source": [
    "f.read()"
   ]
  },
  {
   "cell_type": "code",
   "execution_count": null,
   "id": "33428c2a-b63a-47b2-bef5-9c5eeaafe93d",
   "metadata": {},
   "outputs": [],
   "source": []
  }
 ],
 "metadata": {
  "kernelspec": {
   "display_name": "Python 3 (ipykernel)",
   "language": "python",
   "name": "python3"
  },
  "language_info": {
   "codemirror_mode": {
    "name": "ipython",
    "version": 3
   },
   "file_extension": ".py",
   "mimetype": "text/x-python",
   "name": "python",
   "nbconvert_exporter": "python",
   "pygments_lexer": "ipython3",
   "version": "3.11.7"
  }
 },
 "nbformat": 4,
 "nbformat_minor": 5
}
