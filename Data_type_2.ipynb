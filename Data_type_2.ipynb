{
 "cells": [
  {
   "cell_type": "markdown",
   "id": "6801b283-a001-45cd-b592-501a93fc3f72",
   "metadata": {},
   "source": [
    "# Complex Number"
   ]
  },
  {
   "cell_type": "markdown",
   "id": "eb45bfda-36dc-4e38-b713-8e6e8893369d",
   "metadata": {},
   "source": [
    "Vector values"
   ]
  },
  {
   "cell_type": "code",
   "execution_count": 1,
   "id": "6b202c44-6523-4a64-b2a5-d6f031313cdc",
   "metadata": {},
   "outputs": [
    {
     "data": {
      "text/plain": [
       "(10+4j)"
      ]
     },
     "execution_count": 1,
     "metadata": {},
     "output_type": "execute_result"
    }
   ],
   "source": [
    "10 + 4j"
   ]
  },
  {
   "cell_type": "code",
   "execution_count": 3,
   "id": "80a1a86b-feb4-4494-9c52-96326c6ba00d",
   "metadata": {},
   "outputs": [
    {
     "data": {
      "text/plain": [
       "(5+3j)"
      ]
     },
     "execution_count": 3,
     "metadata": {},
     "output_type": "execute_result"
    }
   ],
   "source": [
    "5 + 3j"
   ]
  },
  {
   "cell_type": "code",
   "execution_count": 4,
   "id": "4302dacb-a30e-420d-baa2-876ed06aa326",
   "metadata": {},
   "outputs": [
    {
     "data": {
      "text/plain": [
       "complex"
      ]
     },
     "execution_count": 4,
     "metadata": {},
     "output_type": "execute_result"
    }
   ],
   "source": [
    "type(5 + 3j)"
   ]
  },
  {
   "cell_type": "markdown",
   "id": "401847ad-4d61-4094-be89-cfc2617d3c07",
   "metadata": {},
   "source": [
    "# String"
   ]
  },
  {
   "cell_type": "markdown",
   "id": "42937c62-a863-4aa5-9c8c-7d0270ffac62",
   "metadata": {},
   "source": [
    "Names, Alphabates, Sentences"
   ]
  },
  {
   "cell_type": "markdown",
   "id": "ae4b655d-4518-4c13-8953-e3e25e656367",
   "metadata": {},
   "source": [
    "String should be written in '' , \"\""
   ]
  },
  {
   "cell_type": "code",
   "execution_count": 7,
   "id": "257ad35d-211b-489b-a3f8-59255ca50cbb",
   "metadata": {},
   "outputs": [
    {
     "data": {
      "text/plain": [
       "'Name'"
      ]
     },
     "execution_count": 7,
     "metadata": {},
     "output_type": "execute_result"
    }
   ],
   "source": [
    "'Name'"
   ]
  },
  {
   "cell_type": "code",
   "execution_count": 8,
   "id": "853b9ec0-a666-48dd-b576-94141fed2e27",
   "metadata": {},
   "outputs": [
    {
     "data": {
      "text/plain": [
       "'Vaibhav'"
      ]
     },
     "execution_count": 8,
     "metadata": {},
     "output_type": "execute_result"
    }
   ],
   "source": [
    "\"Vaibhav\""
   ]
  },
  {
   "cell_type": "raw",
   "id": "9af5f810-54c1-4f21-b007-a751a4d362a4",
   "metadata": {},
   "source": [
    "You have to write multiple lines in ''' '''"
   ]
  },
  {
   "cell_type": "code",
   "execution_count": 9,
   "id": "d48a7f79-df27-460e-b7bc-07d354c6ede4",
   "metadata": {},
   "outputs": [
    {
     "data": {
      "text/plain": [
       "'This is my first line.\\nThis is my second line.\\nThis is my third line'"
      ]
     },
     "execution_count": 9,
     "metadata": {},
     "output_type": "execute_result"
    }
   ],
   "source": [
    "'''This is my first line.\n",
    "This is my second line.\n",
    "This is my third line'''"
   ]
  },
  {
   "cell_type": "code",
   "execution_count": 10,
   "id": "f0b9dda2-3307-491f-8d90-7c2f1989f81e",
   "metadata": {},
   "outputs": [
    {
     "name": "stdout",
     "output_type": "stream",
     "text": [
      "This is my first line.\n",
      "This is my second line.\n",
      "This is my third line\n"
     ]
    }
   ],
   "source": [
    "print('''This is my first line.\n",
    "This is my second line.\n",
    "This is my third line''')"
   ]
  },
  {
   "cell_type": "raw",
   "id": "6b444119-6b9c-4988-bc1d-78b9cb39e9ce",
   "metadata": {},
   "source": [
    "# boolean"
   ]
  },
  {
   "cell_type": "raw",
   "id": "6613ae5e-3257-4ce3-8291-783e113ede5c",
   "metadata": {},
   "source": [
    "True & False format"
   ]
  },
  {
   "cell_type": "code",
   "execution_count": 11,
   "id": "22ef4214-66a7-42a5-be0c-51e2df880964",
   "metadata": {},
   "outputs": [
    {
     "data": {
      "text/plain": [
       "True"
      ]
     },
     "execution_count": 11,
     "metadata": {},
     "output_type": "execute_result"
    }
   ],
   "source": [
    "True"
   ]
  },
  {
   "cell_type": "code",
   "execution_count": 12,
   "id": "de6ef0b0-8e37-43b3-9d96-70b6cf1c50fd",
   "metadata": {},
   "outputs": [
    {
     "data": {
      "text/plain": [
       "False"
      ]
     },
     "execution_count": 12,
     "metadata": {},
     "output_type": "execute_result"
    }
   ],
   "source": [
    "False"
   ]
  },
  {
   "cell_type": "code",
   "execution_count": 13,
   "id": "0ed09715-6463-4d46-a41d-510b96ad9f17",
   "metadata": {},
   "outputs": [
    {
     "data": {
      "text/plain": [
       "bool"
      ]
     },
     "execution_count": 13,
     "metadata": {},
     "output_type": "execute_result"
    }
   ],
   "source": [
    "type(True)"
   ]
  },
  {
   "cell_type": "code",
   "execution_count": 14,
   "id": "3739182a-37db-4e8e-bce9-7bb4280ea733",
   "metadata": {},
   "outputs": [
    {
     "data": {
      "text/plain": [
       "'Science'"
      ]
     },
     "execution_count": 14,
     "metadata": {},
     "output_type": "execute_result"
    }
   ],
   "source": [
    "'Science'"
   ]
  },
  {
   "cell_type": "code",
   "execution_count": 15,
   "id": "84a79b78-a270-4448-a9f1-9ce59e85d2af",
   "metadata": {},
   "outputs": [
    {
     "data": {
      "text/plain": [
       "True"
      ]
     },
     "execution_count": 15,
     "metadata": {},
     "output_type": "execute_result"
    }
   ],
   "source": [
    "'i' in 'Science'"
   ]
  },
  {
   "cell_type": "code",
   "execution_count": 16,
   "id": "18ba6e92-8dd0-4a58-a6cd-90e988e0f2bf",
   "metadata": {},
   "outputs": [
    {
     "data": {
      "text/plain": [
       "False"
      ]
     },
     "execution_count": 16,
     "metadata": {},
     "output_type": "execute_result"
    }
   ],
   "source": [
    "'o' in 'Science'"
   ]
  },
  {
   "cell_type": "code",
   "execution_count": 17,
   "id": "76d9d11f-218d-40fe-b8ec-b057dc37c678",
   "metadata": {},
   "outputs": [],
   "source": [
    "# Operations"
   ]
  },
  {
   "cell_type": "code",
   "execution_count": 19,
   "id": "d140a37b-ce2f-44de-b4e3-d7377302a27a",
   "metadata": {},
   "outputs": [
    {
     "data": {
      "text/plain": [
       "15"
      ]
     },
     "execution_count": 19,
     "metadata": {},
     "output_type": "execute_result"
    }
   ],
   "source": [
    "10 + 5  #Int + Int"
   ]
  },
  {
   "cell_type": "code",
   "execution_count": 20,
   "id": "93413363-7ee7-4e5e-b41b-28fdb3ae03a6",
   "metadata": {},
   "outputs": [
    {
     "ename": "TypeError",
     "evalue": "unsupported operand type(s) for +: 'int' and 'str'",
     "output_type": "error",
     "traceback": [
      "\u001b[1;31m---------------------------------------------------------------------------\u001b[0m",
      "\u001b[1;31mTypeError\u001b[0m                                 Traceback (most recent call last)",
      "Cell \u001b[1;32mIn[20], line 1\u001b[0m\n\u001b[1;32m----> 1\u001b[0m \u001b[38;5;241m10\u001b[39m \u001b[38;5;241m+\u001b[39m \u001b[38;5;124m'\u001b[39m\u001b[38;5;124mData\u001b[39m\u001b[38;5;124m'\u001b[39m\n",
      "\u001b[1;31mTypeError\u001b[0m: unsupported operand type(s) for +: 'int' and 'str'"
     ]
    }
   ],
   "source": [
    "10 + 'Data' #Int + Str"
   ]
  },
  {
   "cell_type": "code",
   "execution_count": 21,
   "id": "b008b01e-121f-4450-9989-a37b3c5ecd25",
   "metadata": {},
   "outputs": [
    {
     "data": {
      "text/plain": [
       "15.5"
      ]
     },
     "execution_count": 21,
     "metadata": {},
     "output_type": "execute_result"
    }
   ],
   "source": [
    "10 + 5.5"
   ]
  },
  {
   "cell_type": "code",
   "execution_count": 22,
   "id": "a51b779e-7a1f-4f3e-9924-ccbd7da05a5f",
   "metadata": {},
   "outputs": [
    {
     "data": {
      "text/plain": [
       "'dataanalysis'"
      ]
     },
     "execution_count": 22,
     "metadata": {},
     "output_type": "execute_result"
    }
   ],
   "source": [
    "\"data\" + \"analysis\""
   ]
  },
  {
   "cell_type": "code",
   "execution_count": 23,
   "id": "6ee0d7f3-2140-474f-a694-9b17ca8d0326",
   "metadata": {},
   "outputs": [],
   "source": [
    "# Str + Int --> False"
   ]
  },
  {
   "cell_type": "code",
   "execution_count": 24,
   "id": "7a17fa5f-2dfa-40b0-b1cc-9dabedd1d194",
   "metadata": {},
   "outputs": [
    {
     "data": {
      "text/plain": [
       "'Data Science'"
      ]
     },
     "execution_count": 24,
     "metadata": {},
     "output_type": "execute_result"
    }
   ],
   "source": [
    "'Data' + ' ' + 'Science'"
   ]
  },
  {
   "cell_type": "code",
   "execution_count": 25,
   "id": "1cc5ad9a-4b9a-473c-be77-5bb27e6e44a0",
   "metadata": {},
   "outputs": [
    {
     "data": {
      "text/plain": [
       "'Data Science'"
      ]
     },
     "execution_count": 25,
     "metadata": {},
     "output_type": "execute_result"
    }
   ],
   "source": [
    "'Data' + ' Science'"
   ]
  },
  {
   "cell_type": "code",
   "execution_count": 26,
   "id": "d5a628c0-011a-4681-9864-165e748fb5fc",
   "metadata": {},
   "outputs": [
    {
     "data": {
      "text/plain": [
       "54"
      ]
     },
     "execution_count": 26,
     "metadata": {},
     "output_type": "execute_result"
    }
   ],
   "source": [
    "18 * 3"
   ]
  },
  {
   "cell_type": "code",
   "execution_count": 27,
   "id": "cc047c19-e150-4566-a2d4-a271527d2c7a",
   "metadata": {},
   "outputs": [
    {
     "data": {
      "text/plain": [
       "10.0"
      ]
     },
     "execution_count": 27,
     "metadata": {},
     "output_type": "execute_result"
    }
   ],
   "source": [
    "20/2"
   ]
  },
  {
   "cell_type": "code",
   "execution_count": 28,
   "id": "8c26005e-3aaa-402b-84b5-a5c9d0c22215",
   "metadata": {},
   "outputs": [
    {
     "data": {
      "text/plain": [
       "'Data'"
      ]
     },
     "execution_count": 28,
     "metadata": {},
     "output_type": "execute_result"
    }
   ],
   "source": [
    "'Data'"
   ]
  },
  {
   "cell_type": "code",
   "execution_count": 29,
   "id": "812c307d-5de8-4370-a7e0-ddcb8aec6abe",
   "metadata": {},
   "outputs": [
    {
     "name": "stdout",
     "output_type": "stream",
     "text": [
      "Data\n"
     ]
    }
   ],
   "source": [
    "print('Data')"
   ]
  },
  {
   "cell_type": "code",
   "execution_count": 30,
   "id": "57048bc5-b6e8-405b-9410-459cc3130efd",
   "metadata": {},
   "outputs": [
    {
     "name": "stdout",
     "output_type": "stream",
     "text": [
      "18\n"
     ]
    }
   ],
   "source": [
    "print(10 + 8)"
   ]
  },
  {
   "cell_type": "markdown",
   "id": "b039b019-6635-43d0-8b14-6d4faa256b4d",
   "metadata": {},
   "source": [
    "# Variable"
   ]
  },
  {
   "cell_type": "code",
   "execution_count": 31,
   "id": "9ec81277-ca8f-4ae3-9a4c-eff789f52eca",
   "metadata": {},
   "outputs": [],
   "source": [
    "x = 10 # x is variable and 10 is data"
   ]
  },
  {
   "cell_type": "code",
   "execution_count": 32,
   "id": "27a5f674-e762-47f6-b620-6ebe03958d91",
   "metadata": {},
   "outputs": [],
   "source": [
    "a = 5\n",
    "b = 2\n",
    "c = a + b"
   ]
  },
  {
   "cell_type": "code",
   "execution_count": 33,
   "id": "19dcbad7-25e0-4650-9481-dd7c9c9d54bb",
   "metadata": {},
   "outputs": [
    {
     "data": {
      "text/plain": [
       "7"
      ]
     },
     "execution_count": 33,
     "metadata": {},
     "output_type": "execute_result"
    }
   ],
   "source": [
    "c"
   ]
  },
  {
   "cell_type": "code",
   "execution_count": 34,
   "id": "06f7c0e3-1559-44fa-b38b-f14813f4dd22",
   "metadata": {},
   "outputs": [],
   "source": [
    "x1 = 100"
   ]
  },
  {
   "cell_type": "code",
   "execution_count": 35,
   "id": "a2af86d0-5d69-4841-9862-fbd12faa2ba1",
   "metadata": {},
   "outputs": [
    {
     "data": {
      "text/plain": [
       "100"
      ]
     },
     "execution_count": 35,
     "metadata": {},
     "output_type": "execute_result"
    }
   ],
   "source": [
    "x1"
   ]
  },
  {
   "cell_type": "code",
   "execution_count": 36,
   "id": "4e196831-2f26-4603-85d1-2287845c4a7d",
   "metadata": {},
   "outputs": [
    {
     "ename": "SyntaxError",
     "evalue": "cannot assign to literal here. Maybe you meant '==' instead of '='? (4096039472.py, line 1)",
     "output_type": "error",
     "traceback": [
      "\u001b[1;36m  Cell \u001b[1;32mIn[36], line 1\u001b[1;36m\u001b[0m\n\u001b[1;33m    10 = 40\u001b[0m\n\u001b[1;37m    ^\u001b[0m\n\u001b[1;31mSyntaxError\u001b[0m\u001b[1;31m:\u001b[0m cannot assign to literal here. Maybe you meant '==' instead of '='?\n"
     ]
    }
   ],
   "source": [
    "10 = 40"
   ]
  },
  {
   "cell_type": "code",
   "execution_count": 37,
   "id": "587a9bb3-f2ca-46d0-9acc-d02517f0f8a3",
   "metadata": {},
   "outputs": [
    {
     "data": {
      "text/plain": [
       "10"
      ]
     },
     "execution_count": 37,
     "metadata": {},
     "output_type": "execute_result"
    }
   ],
   "source": [
    "x"
   ]
  },
  {
   "cell_type": "code",
   "execution_count": 38,
   "id": "b3b0010e-38ca-4997-8711-70561c4e0f60",
   "metadata": {},
   "outputs": [
    {
     "data": {
      "text/plain": [
       "True"
      ]
     },
     "execution_count": 38,
     "metadata": {},
     "output_type": "execute_result"
    }
   ],
   "source": [
    "x == 10"
   ]
  },
  {
   "cell_type": "code",
   "execution_count": 39,
   "id": "2be83d92-4ecd-479d-8531-aa8ed670f610",
   "metadata": {},
   "outputs": [
    {
     "data": {
      "text/plain": [
       "False"
      ]
     },
     "execution_count": 39,
     "metadata": {},
     "output_type": "execute_result"
    }
   ],
   "source": [
    "x == 20"
   ]
  },
  {
   "cell_type": "markdown",
   "id": "00f5a855-fb46-4e67-9957-7e7d2c2b9c59",
   "metadata": {},
   "source": [
    "# Operators"
   ]
  },
  {
   "cell_type": "code",
   "execution_count": 40,
   "id": "5227de12-e4b3-4ef4-b738-d4b362f58b99",
   "metadata": {},
   "outputs": [
    {
     "data": {
      "text/plain": [
       "True"
      ]
     },
     "execution_count": 40,
     "metadata": {},
     "output_type": "execute_result"
    }
   ],
   "source": [
    "10 < 20"
   ]
  },
  {
   "cell_type": "code",
   "execution_count": 41,
   "id": "1a70b0df-61a6-420e-b9f6-c5a36ac95ab7",
   "metadata": {},
   "outputs": [
    {
     "data": {
      "text/plain": [
       "True"
      ]
     },
     "execution_count": 41,
     "metadata": {},
     "output_type": "execute_result"
    }
   ],
   "source": [
    "20 > 10"
   ]
  },
  {
   "cell_type": "code",
   "execution_count": 42,
   "id": "01417d3d-445b-4b6f-9b9d-f945c3d92957",
   "metadata": {},
   "outputs": [
    {
     "data": {
      "text/plain": [
       "False"
      ]
     },
     "execution_count": 42,
     "metadata": {},
     "output_type": "execute_result"
    }
   ],
   "source": [
    "20 < 10"
   ]
  },
  {
   "cell_type": "code",
   "execution_count": 43,
   "id": "ec957045-0619-41f3-a0aa-21b925246d38",
   "metadata": {},
   "outputs": [
    {
     "data": {
      "text/plain": [
       "True"
      ]
     },
     "execution_count": 43,
     "metadata": {},
     "output_type": "execute_result"
    }
   ],
   "source": [
    "10 <= 10"
   ]
  },
  {
   "cell_type": "code",
   "execution_count": 44,
   "id": "44c4a217-ad0f-4450-b074-38f5acd0b59e",
   "metadata": {},
   "outputs": [
    {
     "data": {
      "text/plain": [
       "True"
      ]
     },
     "execution_count": 44,
     "metadata": {},
     "output_type": "execute_result"
    }
   ],
   "source": [
    "20 >= 20"
   ]
  },
  {
   "cell_type": "code",
   "execution_count": 45,
   "id": "40ddc8a8-fb4c-48a2-ad92-cc151b68110c",
   "metadata": {},
   "outputs": [
    {
     "data": {
      "text/plain": [
       "True"
      ]
     },
     "execution_count": 45,
     "metadata": {},
     "output_type": "execute_result"
    }
   ],
   "source": [
    "2 == 2"
   ]
  },
  {
   "cell_type": "code",
   "execution_count": 46,
   "id": "ebe89a51-e189-4467-8289-305fbf001f53",
   "metadata": {},
   "outputs": [
    {
     "data": {
      "text/plain": [
       "True"
      ]
     },
     "execution_count": 46,
     "metadata": {},
     "output_type": "execute_result"
    }
   ],
   "source": [
    "True and True"
   ]
  },
  {
   "cell_type": "code",
   "execution_count": 47,
   "id": "b92449cb-b950-4df6-88ce-979e1c661bea",
   "metadata": {},
   "outputs": [
    {
     "data": {
      "text/plain": [
       "False"
      ]
     },
     "execution_count": 47,
     "metadata": {},
     "output_type": "execute_result"
    }
   ],
   "source": [
    "True and False"
   ]
  },
  {
   "cell_type": "code",
   "execution_count": 48,
   "id": "cbf9d072-8aa0-46c8-965c-e6975e53de7a",
   "metadata": {},
   "outputs": [
    {
     "data": {
      "text/plain": [
       "False"
      ]
     },
     "execution_count": 48,
     "metadata": {},
     "output_type": "execute_result"
    }
   ],
   "source": [
    "False and False"
   ]
  },
  {
   "cell_type": "code",
   "execution_count": 49,
   "id": "cae207b3-2aa5-467c-8c3f-03c32485c92c",
   "metadata": {},
   "outputs": [
    {
     "data": {
      "text/plain": [
       "True"
      ]
     },
     "execution_count": 49,
     "metadata": {},
     "output_type": "execute_result"
    }
   ],
   "source": [
    "True or True"
   ]
  },
  {
   "cell_type": "code",
   "execution_count": 50,
   "id": "1a59b520-1fac-4d55-9da3-8f07629c9e49",
   "metadata": {},
   "outputs": [
    {
     "data": {
      "text/plain": [
       "True"
      ]
     },
     "execution_count": 50,
     "metadata": {},
     "output_type": "execute_result"
    }
   ],
   "source": [
    "True or False"
   ]
  },
  {
   "cell_type": "code",
   "execution_count": 51,
   "id": "2696ad36-36d7-42ea-a797-122128906246",
   "metadata": {},
   "outputs": [
    {
     "data": {
      "text/plain": [
       "False"
      ]
     },
     "execution_count": 51,
     "metadata": {},
     "output_type": "execute_result"
    }
   ],
   "source": [
    "False or False"
   ]
  },
  {
   "cell_type": "code",
   "execution_count": null,
   "id": "30de9961-f442-4358-88dd-383fc087a5b2",
   "metadata": {},
   "outputs": [],
   "source": []
  }
 ],
 "metadata": {
  "kernelspec": {
   "display_name": "Python 3 (ipykernel)",
   "language": "python",
   "name": "python3"
  },
  "language_info": {
   "codemirror_mode": {
    "name": "ipython",
    "version": 3
   },
   "file_extension": ".py",
   "mimetype": "text/x-python",
   "name": "python",
   "nbconvert_exporter": "python",
   "pygments_lexer": "ipython3",
   "version": "3.11.7"
  }
 },
 "nbformat": 4,
 "nbformat_minor": 5
}
