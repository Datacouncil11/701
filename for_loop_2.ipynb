{
 "cells": [
  {
   "cell_type": "code",
   "execution_count": 1,
   "id": "99befebd-f01c-4d77-bffa-abdc52f3f164",
   "metadata": {},
   "outputs": [],
   "source": [
    "# Code foe even and odd numbers"
   ]
  },
  {
   "cell_type": "code",
   "execution_count": 3,
   "id": "3e4c96b6-7817-4c9b-8ba4-9926dcff2e98",
   "metadata": {},
   "outputs": [],
   "source": [
    "l = list(range(1,21))"
   ]
  },
  {
   "cell_type": "code",
   "execution_count": 4,
   "id": "1177f98e-3769-44ff-ad96-8cac7379a236",
   "metadata": {},
   "outputs": [
    {
     "data": {
      "text/plain": [
       "[1, 2, 3, 4, 5, 6, 7, 8, 9, 10, 11, 12, 13, 14, 15, 16, 17, 18, 19, 20]"
      ]
     },
     "execution_count": 4,
     "metadata": {},
     "output_type": "execute_result"
    }
   ],
   "source": [
    "l"
   ]
  },
  {
   "cell_type": "code",
   "execution_count": 5,
   "id": "bc276116-4c81-4ba8-9008-0a0971f2737f",
   "metadata": {},
   "outputs": [
    {
     "name": "stdout",
     "output_type": "stream",
     "text": [
      "2 Even\n",
      "4 Even\n",
      "6 Even\n",
      "8 Even\n",
      "10 Even\n",
      "12 Even\n",
      "14 Even\n",
      "16 Even\n",
      "18 Even\n",
      "20 Even\n"
     ]
    }
   ],
   "source": [
    "for i in l:\n",
    "    if i % 2 == 0:\n",
    "        print(i, 'Even')"
   ]
  },
  {
   "cell_type": "code",
   "execution_count": 6,
   "id": "9dc2f3c8-753e-4f99-b5c0-25944e4ef1d8",
   "metadata": {},
   "outputs": [
    {
     "name": "stdout",
     "output_type": "stream",
     "text": [
      "1 Odd\n",
      "2 Even\n",
      "3 Odd\n",
      "4 Even\n",
      "5 Odd\n",
      "6 Even\n",
      "7 Odd\n",
      "8 Even\n",
      "9 Odd\n",
      "10 Even\n",
      "11 Odd\n",
      "12 Even\n",
      "13 Odd\n",
      "14 Even\n",
      "15 Odd\n",
      "16 Even\n",
      "17 Odd\n",
      "18 Even\n",
      "19 Odd\n",
      "20 Even\n"
     ]
    }
   ],
   "source": [
    "for i in l:\n",
    "    if i % 2 == 0:\n",
    "        print(i, 'Even')\n",
    "    else:\n",
    "        print(i, 'Odd')"
   ]
  },
  {
   "cell_type": "code",
   "execution_count": 7,
   "id": "eef08c00-c7a9-4e45-b54e-89b839e13bd9",
   "metadata": {},
   "outputs": [
    {
     "name": "stdout",
     "output_type": "stream",
     "text": [
      "1 odd\n",
      "3 odd\n",
      "5 odd\n",
      "7 odd\n",
      "9 odd\n",
      "11 odd\n",
      "13 odd\n",
      "15 odd\n",
      "17 odd\n",
      "19 odd\n"
     ]
    }
   ],
   "source": [
    "for i in l:\n",
    "    if i % 2 != 0:\n",
    "        print(i, 'odd')"
   ]
  },
  {
   "cell_type": "markdown",
   "id": "ab736637-c43f-40cb-9037-13f96ae53e6c",
   "metadata": {},
   "source": [
    "# While"
   ]
  },
  {
   "cell_type": "code",
   "execution_count": 19,
   "id": "795b4a60-8028-4f24-8b3f-4d24f72b62de",
   "metadata": {},
   "outputs": [],
   "source": [
    "n =  5"
   ]
  },
  {
   "cell_type": "code",
   "execution_count": 20,
   "id": "f16b291f-6a22-413d-9db5-2eb9eeb5b628",
   "metadata": {},
   "outputs": [
    {
     "name": "stdout",
     "output_type": "stream",
     "text": [
      "5\n",
      "6\n",
      "7\n",
      "8\n",
      "9\n"
     ]
    }
   ],
   "source": [
    "while n < 10:\n",
    "    print(n)\n",
    "    n = n + 1"
   ]
  },
  {
   "cell_type": "code",
   "execution_count": 21,
   "id": "3b8e2174-5299-44ef-a65a-94e1d1e952f3",
   "metadata": {},
   "outputs": [
    {
     "name": "stdout",
     "output_type": "stream",
     "text": [
      "30\n",
      "31\n",
      "32\n",
      "33\n",
      "34\n"
     ]
    }
   ],
   "source": [
    "age = 30\n",
    "while age < 35:\n",
    "    print(age)\n",
    "    age = age + 1"
   ]
  },
  {
   "cell_type": "code",
   "execution_count": 26,
   "id": "e4f35c92-2f51-45f7-853f-03a13837172e",
   "metadata": {},
   "outputs": [
    {
     "name": "stdin",
     "output_type": "stream",
     "text": [
      "Press stop to exit loop hggddshf\n",
      "Press stop to exit loop hsdhvd\n",
      "Press stop to exit loop jdksh\n",
      "Press stop to exit loop jmsdksg\n",
      "Press stop to exit loop xkjndkuu\n",
      "Press stop to exit loop stop\n"
     ]
    }
   ],
   "source": [
    "x = 'XYZ'\n",
    "while x != 'stop':\n",
    "    x = input('Press stop to exit loop')"
   ]
  },
  {
   "cell_type": "code",
   "execution_count": 23,
   "id": "84447da6-04cf-460c-bd1e-82aadc41396e",
   "metadata": {},
   "outputs": [],
   "source": [
    "z = 'XYZ'"
   ]
  },
  {
   "cell_type": "code",
   "execution_count": 24,
   "id": "15fa9099-507e-4541-98c8-d7f829015b6e",
   "metadata": {},
   "outputs": [
    {
     "data": {
      "text/plain": [
       "False"
      ]
     },
     "execution_count": 24,
     "metadata": {},
     "output_type": "execute_result"
    }
   ],
   "source": [
    "z == 'stop'"
   ]
  },
  {
   "cell_type": "code",
   "execution_count": 25,
   "id": "d40426c5-a953-4063-a0c1-ba66c6900539",
   "metadata": {},
   "outputs": [
    {
     "data": {
      "text/plain": [
       "True"
      ]
     },
     "execution_count": 25,
     "metadata": {},
     "output_type": "execute_result"
    }
   ],
   "source": [
    "z != 'stop'"
   ]
  },
  {
   "cell_type": "code",
   "execution_count": null,
   "id": "bd029759-7e86-418b-aa66-20ce1860b720",
   "metadata": {},
   "outputs": [],
   "source": []
  }
 ],
 "metadata": {
  "kernelspec": {
   "display_name": "Python 3 (ipykernel)",
   "language": "python",
   "name": "python3"
  },
  "language_info": {
   "codemirror_mode": {
    "name": "ipython",
    "version": 3
   },
   "file_extension": ".py",
   "mimetype": "text/x-python",
   "name": "python",
   "nbconvert_exporter": "python",
   "pygments_lexer": "ipython3",
   "version": "3.11.7"
  }
 },
 "nbformat": 4,
 "nbformat_minor": 5
}
