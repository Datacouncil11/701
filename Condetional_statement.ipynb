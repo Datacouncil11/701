{
 "cells": [
  {
   "cell_type": "code",
   "execution_count": 3,
   "id": "ea249746-15ca-41f5-8fd3-63ef98d5a6f3",
   "metadata": {},
   "outputs": [
    {
     "name": "stdout",
     "output_type": "stream",
     "text": [
      "Condetion is True\n"
     ]
    }
   ],
   "source": [
    "if 10 > 5:\n",
    "    print('Condetion is True')\n",
    "else:\n",
    "    print('Condetion is False')"
   ]
  },
  {
   "cell_type": "code",
   "execution_count": 4,
   "id": "b8046f10-41d0-488e-89f4-0e953c07d2eb",
   "metadata": {},
   "outputs": [
    {
     "name": "stdout",
     "output_type": "stream",
     "text": [
      "Condetion is False\n"
     ]
    }
   ],
   "source": [
    "if 10 < 5:\n",
    "    print('Condetion is True')\n",
    "else:\n",
    "    print('Condetion is False')"
   ]
  },
  {
   "cell_type": "code",
   "execution_count": 10,
   "id": "b84107ae-60cd-4fb0-8314-319cb49b47f0",
   "metadata": {},
   "outputs": [],
   "source": [
    "marks = 35"
   ]
  },
  {
   "cell_type": "code",
   "execution_count": 12,
   "id": "c7a6d9b4-8b31-403c-aede-f81305e551ce",
   "metadata": {},
   "outputs": [
    {
     "name": "stdout",
     "output_type": "stream",
     "text": [
      "Pass\n"
     ]
    }
   ],
   "source": [
    "if marks >= 35:\n",
    "    print('Pass')\n",
    "else:\n",
    "    print('Fail')"
   ]
  },
  {
   "cell_type": "code",
   "execution_count": 18,
   "id": "5fdd3092-c3a5-45c9-acf5-a39b92dc1d05",
   "metadata": {},
   "outputs": [
    {
     "name": "stdin",
     "output_type": "stream",
     "text": [
      "Enter your name 23\n"
     ]
    }
   ],
   "source": [
    "name = input('Enter your name')"
   ]
  },
  {
   "cell_type": "code",
   "execution_count": 19,
   "id": "cf2e23f8-48f5-4896-8277-7039dc85922a",
   "metadata": {},
   "outputs": [
    {
     "data": {
      "text/plain": [
       "'23'"
      ]
     },
     "execution_count": 19,
     "metadata": {},
     "output_type": "execute_result"
    }
   ],
   "source": [
    "name"
   ]
  },
  {
   "cell_type": "code",
   "execution_count": 20,
   "id": "9ae4b757-6948-4446-9e09-233519de3bbc",
   "metadata": {},
   "outputs": [
    {
     "data": {
      "text/plain": [
       "str"
      ]
     },
     "execution_count": 20,
     "metadata": {},
     "output_type": "execute_result"
    }
   ],
   "source": [
    "type(name)"
   ]
  },
  {
   "cell_type": "code",
   "execution_count": 22,
   "id": "3ecdacd2-f57f-4c1f-b5bb-88b8bb14796c",
   "metadata": {},
   "outputs": [
    {
     "name": "stdin",
     "output_type": "stream",
     "text": [
      "Enter your marks 38\n"
     ]
    }
   ],
   "source": [
    "marks = int(input('Enter your marks'))"
   ]
  },
  {
   "cell_type": "code",
   "execution_count": 23,
   "id": "06b40334-4453-47d7-99c8-f9747a93a082",
   "metadata": {},
   "outputs": [
    {
     "data": {
      "text/plain": [
       "38"
      ]
     },
     "execution_count": 23,
     "metadata": {},
     "output_type": "execute_result"
    }
   ],
   "source": [
    "marks"
   ]
  },
  {
   "cell_type": "code",
   "execution_count": 24,
   "id": "593af160-6e06-4ccf-96fa-fa052f89ab78",
   "metadata": {},
   "outputs": [
    {
     "data": {
      "text/plain": [
       "int"
      ]
     },
     "execution_count": 24,
     "metadata": {},
     "output_type": "execute_result"
    }
   ],
   "source": [
    "type(marks)"
   ]
  },
  {
   "cell_type": "code",
   "execution_count": 27,
   "id": "d8e0a74f-6b4e-47ee-a2e7-cfdc52309a03",
   "metadata": {},
   "outputs": [
    {
     "name": "stdin",
     "output_type": "stream",
     "text": [
      "Enter age 4.5\n"
     ]
    }
   ],
   "source": [
    "age = float(input('Enter age'))"
   ]
  },
  {
   "cell_type": "code",
   "execution_count": 28,
   "id": "714b3dcd-215c-47a9-8c48-bfc3a8208df7",
   "metadata": {},
   "outputs": [
    {
     "data": {
      "text/plain": [
       "float"
      ]
     },
     "execution_count": 28,
     "metadata": {},
     "output_type": "execute_result"
    }
   ],
   "source": [
    "type(age)"
   ]
  },
  {
   "cell_type": "code",
   "execution_count": 29,
   "id": "8603f575-a56c-4b10-bf4b-04862e1ff8b0",
   "metadata": {},
   "outputs": [
    {
     "name": "stdin",
     "output_type": "stream",
     "text": [
      "Marks 6\n"
     ]
    },
    {
     "name": "stdout",
     "output_type": "stream",
     "text": [
      "Fail\n"
     ]
    }
   ],
   "source": [
    "marks = int(input('Marks'))\n",
    "if marks >= 35:\n",
    "    print('Pass')\n",
    "else:\n",
    "    print('Fail')"
   ]
  },
  {
   "cell_type": "code",
   "execution_count": 33,
   "id": "8efae90e-5db6-4212-89bc-7f6e6f7b77c3",
   "metadata": {},
   "outputs": [
    {
     "name": "stdin",
     "output_type": "stream",
     "text": [
      " 19\n"
     ]
    },
    {
     "name": "stdout",
     "output_type": "stream",
     "text": [
      "Drivng car is allowed\n"
     ]
    }
   ],
   "source": [
    "age = int(input())\n",
    "if age > 18:\n",
    "    print('Drivng car is allowed')\n",
    "else:\n",
    "    print('Drivng car is not allowed')"
   ]
  },
  {
   "cell_type": "code",
   "execution_count": 34,
   "id": "ca7989a8-bbbe-41dd-83fd-8d706fa1f57a",
   "metadata": {},
   "outputs": [],
   "source": [
    "# Multiple condetions"
   ]
  },
  {
   "cell_type": "code",
   "execution_count": 37,
   "id": "890d2b57-2ff7-458e-882c-25916f588a41",
   "metadata": {},
   "outputs": [
    {
     "name": "stdin",
     "output_type": "stream",
     "text": [
      "Age 35\n"
     ]
    },
    {
     "name": "stdout",
     "output_type": "stream",
     "text": [
      "Working person\n"
     ]
    }
   ],
   "source": [
    "age = int(input('Age'))\n",
    "if age > 60:\n",
    "    print('Retired Person')\n",
    "elif age > 24:\n",
    "    print('Working person')\n",
    "elif age > 10:\n",
    "    print('Child')\n",
    "else:\n",
    "    print('Age is less than 10')"
   ]
  },
  {
   "cell_type": "code",
   "execution_count": 41,
   "id": "7687eef7-b30a-4b0c-94d4-ad3d3e1cf782",
   "metadata": {},
   "outputs": [],
   "source": [
    "age = 50"
   ]
  },
  {
   "cell_type": "code",
   "execution_count": 42,
   "id": "d9ad765a-fbe7-4e79-b6b7-c4eff266cc8b",
   "metadata": {},
   "outputs": [
    {
     "name": "stdout",
     "output_type": "stream",
     "text": [
      "Not Between 18 to 35\n"
     ]
    }
   ],
   "source": [
    "if age > 18 and age < 36:\n",
    "    print('Between 18 to 35')\n",
    "else:\n",
    "    print('Not Between 18 to 35')"
   ]
  },
  {
   "cell_type": "code",
   "execution_count": 39,
   "id": "d8540f15-816e-4278-9826-38c29993bde1",
   "metadata": {},
   "outputs": [
    {
     "data": {
      "text/plain": [
       "True"
      ]
     },
     "execution_count": 39,
     "metadata": {},
     "output_type": "execute_result"
    }
   ],
   "source": [
    "True and True"
   ]
  },
  {
   "cell_type": "code",
   "execution_count": 43,
   "id": "a65580ee-92d1-4fe0-924b-9a835bb1c8c8",
   "metadata": {},
   "outputs": [
    {
     "data": {
      "text/plain": [
       "True"
      ]
     },
     "execution_count": 43,
     "metadata": {},
     "output_type": "execute_result"
    }
   ],
   "source": [
    "50 > 18"
   ]
  },
  {
   "cell_type": "code",
   "execution_count": 44,
   "id": "2fc09f6f-a7a5-427d-bccf-1f9fbb5f5608",
   "metadata": {},
   "outputs": [
    {
     "data": {
      "text/plain": [
       "False"
      ]
     },
     "execution_count": 44,
     "metadata": {},
     "output_type": "execute_result"
    }
   ],
   "source": [
    "50 < 36"
   ]
  },
  {
   "cell_type": "code",
   "execution_count": 45,
   "id": "183afe35-cf31-44c5-b874-0d2348d31046",
   "metadata": {},
   "outputs": [
    {
     "data": {
      "text/plain": [
       "False"
      ]
     },
     "execution_count": 45,
     "metadata": {},
     "output_type": "execute_result"
    }
   ],
   "source": [
    "True and False"
   ]
  },
  {
   "cell_type": "code",
   "execution_count": 50,
   "id": "03d77c5e-8979-4ecc-b5f2-18893ec0b179",
   "metadata": {},
   "outputs": [
    {
     "name": "stdout",
     "output_type": "stream",
     "text": [
      "True\n"
     ]
    }
   ],
   "source": [
    "age = 50\n",
    "if age > 18 or age < 36:\n",
    "    print('True')\n",
    "else:\n",
    "    print('False')"
   ]
  },
  {
   "cell_type": "code",
   "execution_count": 46,
   "id": "52185508-ef5c-4616-b645-70f8fc608ec7",
   "metadata": {},
   "outputs": [
    {
     "data": {
      "text/plain": [
       "True"
      ]
     },
     "execution_count": 46,
     "metadata": {},
     "output_type": "execute_result"
    }
   ],
   "source": [
    "True or False"
   ]
  },
  {
   "cell_type": "code",
   "execution_count": 47,
   "id": "c492e3b7-45c5-4a57-bc63-4bd37eef13b8",
   "metadata": {},
   "outputs": [
    {
     "data": {
      "text/plain": [
       "True"
      ]
     },
     "execution_count": 47,
     "metadata": {},
     "output_type": "execute_result"
    }
   ],
   "source": [
    "True or True"
   ]
  },
  {
   "cell_type": "code",
   "execution_count": 48,
   "id": "88fccc8e-7e43-4b05-9682-39982677c5b4",
   "metadata": {},
   "outputs": [
    {
     "data": {
      "text/plain": [
       "True"
      ]
     },
     "execution_count": 48,
     "metadata": {},
     "output_type": "execute_result"
    }
   ],
   "source": [
    "False or True"
   ]
  },
  {
   "cell_type": "code",
   "execution_count": null,
   "id": "544cd3a4-c918-4d07-b80a-6a1f5d9a514b",
   "metadata": {},
   "outputs": [],
   "source": []
  }
 ],
 "metadata": {
  "kernelspec": {
   "display_name": "Python 3 (ipykernel)",
   "language": "python",
   "name": "python3"
  },
  "language_info": {
   "codemirror_mode": {
    "name": "ipython",
    "version": 3
   },
   "file_extension": ".py",
   "mimetype": "text/x-python",
   "name": "python",
   "nbconvert_exporter": "python",
   "pygments_lexer": "ipython3",
   "version": "3.11.7"
  }
 },
 "nbformat": 4,
 "nbformat_minor": 5
}
