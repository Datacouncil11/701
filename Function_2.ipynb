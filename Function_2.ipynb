{
 "cells": [
  {
   "cell_type": "code",
   "execution_count": 2,
   "id": "cdc3086c-790f-4cec-8bcc-7e3b5f75f11b",
   "metadata": {},
   "outputs": [],
   "source": [
    "def test1(*args):\n",
    "    l = []\n",
    "    for i in args:\n",
    "        if type(i) == str:\n",
    "            for leter in i:\n",
    "                l.append(leter)\n",
    "    return l"
   ]
  },
  {
   "cell_type": "code",
   "execution_count": 3,
   "id": "b057af13-63fb-4595-ac94-f86735a7efd0",
   "metadata": {},
   "outputs": [
    {
     "data": {
      "text/plain": [
       "['H',\n",
       " 'e',\n",
       " 'l',\n",
       " 'l',\n",
       " 'o',\n",
       " 'D',\n",
       " 'a',\n",
       " 't',\n",
       " 'a',\n",
       " 'S',\n",
       " 'c',\n",
       " 'i',\n",
       " 'e',\n",
       " 'n',\n",
       " 'c',\n",
       " 'e']"
      ]
     },
     "execution_count": 3,
     "metadata": {},
     "output_type": "execute_result"
    }
   ],
   "source": [
    "test1(1,1.5,True,'Hello','Data','Science')"
   ]
  },
  {
   "cell_type": "code",
   "execution_count": 1,
   "id": "060f1885-5862-4190-8628-c72927489404",
   "metadata": {},
   "outputs": [
    {
     "name": "stdout",
     "output_type": "stream",
     "text": [
      "H\n",
      "e\n",
      "l\n",
      "l\n",
      "o\n"
     ]
    }
   ],
   "source": [
    "for i in 'Hello':\n",
    "    print(i)"
   ]
  },
  {
   "cell_type": "code",
   "execution_count": 4,
   "id": "d5f1862e-b877-4e52-9ab2-1b4b50345ed2",
   "metadata": {},
   "outputs": [],
   "source": [
    "def test2(a, *args):\n",
    "    return a , args"
   ]
  },
  {
   "cell_type": "code",
   "execution_count": 5,
   "id": "c34dba06-5cf3-4ada-8b01-54df1d606aec",
   "metadata": {},
   "outputs": [
    {
     "data": {
      "text/plain": [
       "(1, (2, 3, 4, 5))"
      ]
     },
     "execution_count": 5,
     "metadata": {},
     "output_type": "execute_result"
    }
   ],
   "source": [
    "test2(1,2,3,4,5)"
   ]
  },
  {
   "cell_type": "code",
   "execution_count": 6,
   "id": "be3ab91c-bef2-4f7b-90e0-70c75bfe0bd8",
   "metadata": {},
   "outputs": [],
   "source": [
    "def test3(a,b,c, *args):\n",
    "    return args, a,b,c"
   ]
  },
  {
   "cell_type": "code",
   "execution_count": 7,
   "id": "ed79dd68-554a-486c-a7c7-b65c4ac432e1",
   "metadata": {},
   "outputs": [
    {
     "data": {
      "text/plain": [
       "((4, 5, 6, 7, 8, 9), 1, 2, 3)"
      ]
     },
     "execution_count": 7,
     "metadata": {},
     "output_type": "execute_result"
    }
   ],
   "source": [
    "test3(1,2,3,4,5,6,7,8,9)"
   ]
  },
  {
   "cell_type": "code",
   "execution_count": 8,
   "id": "dffb26f0-ddfe-4ee2-80bc-b28017225288",
   "metadata": {},
   "outputs": [],
   "source": [
    "def test4(**kwargs):\n",
    "    return kwargs"
   ]
  },
  {
   "cell_type": "code",
   "execution_count": 9,
   "id": "70abcac8-d7da-413d-8e39-816ad16fd6f2",
   "metadata": {},
   "outputs": [
    {
     "data": {
      "text/plain": [
       "{'a': 1, 'b': 2, 'c': 3}"
      ]
     },
     "execution_count": 9,
     "metadata": {},
     "output_type": "execute_result"
    }
   ],
   "source": [
    "test4(a=1,b=2,c=3)"
   ]
  },
  {
   "cell_type": "code",
   "execution_count": 10,
   "id": "d35f8734-ecdb-4aae-8702-2172df1f0e3c",
   "metadata": {},
   "outputs": [],
   "source": [
    "def test5(**kwargs):\n",
    "    return kwargs.keys()"
   ]
  },
  {
   "cell_type": "code",
   "execution_count": 11,
   "id": "30bf746d-31b6-4623-bcaf-a809a321ea12",
   "metadata": {},
   "outputs": [
    {
     "data": {
      "text/plain": [
       "dict_keys(['a', 'b', 'c'])"
      ]
     },
     "execution_count": 11,
     "metadata": {},
     "output_type": "execute_result"
    }
   ],
   "source": [
    "test5(a=1,b=2,c=3)"
   ]
  },
  {
   "cell_type": "code",
   "execution_count": 12,
   "id": "c0a8d4cc-594f-4e6d-957c-b473a050f3fc",
   "metadata": {},
   "outputs": [],
   "source": [
    "def test6(**kwargs):\n",
    "    return kwargs.values()"
   ]
  },
  {
   "cell_type": "code",
   "execution_count": 13,
   "id": "b6fd73b6-cf0f-49ed-aa4a-35d4e42f0ebb",
   "metadata": {},
   "outputs": [
    {
     "data": {
      "text/plain": [
       "dict_values([1, 2, 3])"
      ]
     },
     "execution_count": 13,
     "metadata": {},
     "output_type": "execute_result"
    }
   ],
   "source": [
    "test6(a=1,b=2,c=3)"
   ]
  },
  {
   "cell_type": "code",
   "execution_count": 14,
   "id": "79aff35a-336d-4f33-b99b-76309a00cd29",
   "metadata": {},
   "outputs": [],
   "source": [
    "def test7(*args, **kwargs):\n",
    "    return args, kwargs"
   ]
  },
  {
   "cell_type": "code",
   "execution_count": 15,
   "id": "45c82ab4-3318-4bb4-9f0e-4a6e682c40d9",
   "metadata": {},
   "outputs": [
    {
     "data": {
      "text/plain": [
       "((12, 3, 4, 5, 6), {'a': 100, 'b': 200, 'c': 300})"
      ]
     },
     "execution_count": 15,
     "metadata": {},
     "output_type": "execute_result"
    }
   ],
   "source": [
    "test7(12,3,4,5,6,a=100,b=200,c=300)"
   ]
  },
  {
   "cell_type": "code",
   "execution_count": 16,
   "id": "ad69e9a9-284f-49ef-9306-4dd655fc3690",
   "metadata": {},
   "outputs": [],
   "source": [
    "def test8(a, *args, **kwargs):\n",
    "    return a , args, kwargs"
   ]
  },
  {
   "cell_type": "code",
   "execution_count": 17,
   "id": "5725aeae-6555-462d-8450-def21c7cab7e",
   "metadata": {},
   "outputs": [
    {
     "data": {
      "text/plain": [
       "(1, (2, 3, 4, 5, 6), {'k': 200, 'm': 300, 'l': 300})"
      ]
     },
     "execution_count": 17,
     "metadata": {},
     "output_type": "execute_result"
    }
   ],
   "source": [
    "test8(1,2,3,4,5,6,k=200,m=300,l=300)"
   ]
  },
  {
   "cell_type": "code",
   "execution_count": 18,
   "id": "44bfa143-efcf-495f-95c5-468a648c698d",
   "metadata": {},
   "outputs": [],
   "source": [
    "l = lambda a: a + 100    # input:output"
   ]
  },
  {
   "cell_type": "code",
   "execution_count": 19,
   "id": "a2071160-fc32-41bd-9862-540e94dd985e",
   "metadata": {},
   "outputs": [
    {
     "data": {
      "text/plain": [
       "105"
      ]
     },
     "execution_count": 19,
     "metadata": {},
     "output_type": "execute_result"
    }
   ],
   "source": [
    "l(5)"
   ]
  },
  {
   "cell_type": "code",
   "execution_count": 20,
   "id": "a5c31057-3c94-4520-8ee2-dd3817ce3dc1",
   "metadata": {},
   "outputs": [],
   "source": [
    "j = lambda a, b : a + b"
   ]
  },
  {
   "cell_type": "code",
   "execution_count": 21,
   "id": "97bd06ba-2f42-4383-839e-1453e4cf21bc",
   "metadata": {},
   "outputs": [
    {
     "data": {
      "text/plain": [
       "15"
      ]
     },
     "execution_count": 21,
     "metadata": {},
     "output_type": "execute_result"
    }
   ],
   "source": [
    "j(10,5)"
   ]
  },
  {
   "cell_type": "code",
   "execution_count": 22,
   "id": "74083852-d52e-4fbb-9263-96ada51e69cc",
   "metadata": {},
   "outputs": [],
   "source": [
    "a = lambda *args : args"
   ]
  },
  {
   "cell_type": "code",
   "execution_count": 23,
   "id": "f5fb700e-3125-4a3c-aa8f-ccc61f4c6993",
   "metadata": {},
   "outputs": [
    {
     "data": {
      "text/plain": [
       "(1, 2, 3, 4, 5)"
      ]
     },
     "execution_count": 23,
     "metadata": {},
     "output_type": "execute_result"
    }
   ],
   "source": [
    "a(1,2,3,4,5)"
   ]
  },
  {
   "cell_type": "code",
   "execution_count": 26,
   "id": "f4368748-40a1-4dd5-aa34-b116c596398f",
   "metadata": {},
   "outputs": [],
   "source": [
    "g = lambda a : a * a"
   ]
  },
  {
   "cell_type": "code",
   "execution_count": 27,
   "id": "59185847-5088-4684-b11e-deba067af075",
   "metadata": {},
   "outputs": [
    {
     "data": {
      "text/plain": [
       "4"
      ]
     },
     "execution_count": 27,
     "metadata": {},
     "output_type": "execute_result"
    }
   ],
   "source": [
    "g(2)"
   ]
  },
  {
   "cell_type": "code",
   "execution_count": 28,
   "id": "c73276b0-3208-4550-9f28-b1db88d948fe",
   "metadata": {},
   "outputs": [
    {
     "data": {
      "text/plain": [
       "49"
      ]
     },
     "execution_count": 28,
     "metadata": {},
     "output_type": "execute_result"
    }
   ],
   "source": [
    "g(7)"
   ]
  },
  {
   "cell_type": "code",
   "execution_count": 29,
   "id": "4a45d65b-22c8-4f00-b7cf-f8d724863c39",
   "metadata": {},
   "outputs": [],
   "source": [
    "l = lambda a , b : (a+b, a*b)"
   ]
  },
  {
   "cell_type": "code",
   "execution_count": 30,
   "id": "d5fba754-6f4d-496a-9b1b-f14c36838d71",
   "metadata": {},
   "outputs": [
    {
     "data": {
      "text/plain": [
       "(7, 10)"
      ]
     },
     "execution_count": 30,
     "metadata": {},
     "output_type": "execute_result"
    }
   ],
   "source": [
    "l(5,2)"
   ]
  },
  {
   "cell_type": "code",
   "execution_count": 31,
   "id": "3f127dd5-a494-4715-8344-a3c97ea816c5",
   "metadata": {},
   "outputs": [],
   "source": [
    "c = lambda a : [i for i in a]"
   ]
  },
  {
   "cell_type": "code",
   "execution_count": 32,
   "id": "303f7a09-24b4-4328-b5b1-70fff16448bb",
   "metadata": {},
   "outputs": [
    {
     "data": {
      "text/plain": [
       "[10, 20, 30, 40]"
      ]
     },
     "execution_count": 32,
     "metadata": {},
     "output_type": "execute_result"
    }
   ],
   "source": [
    "c([10,20,30,40])"
   ]
  },
  {
   "cell_type": "code",
   "execution_count": 33,
   "id": "51fc9044-7b41-44e0-89c7-3b0646b6c50e",
   "metadata": {},
   "outputs": [
    {
     "data": {
      "text/plain": [
       "['H', 'e', 'l', 'l', 'o', 'W', 'o', 'r', 'l', 'd']"
      ]
     },
     "execution_count": 33,
     "metadata": {},
     "output_type": "execute_result"
    }
   ],
   "source": [
    "c('HelloWorld')"
   ]
  },
  {
   "cell_type": "code",
   "execution_count": null,
   "id": "2233587f-f8d4-4320-89a4-b9ea0c335388",
   "metadata": {},
   "outputs": [],
   "source": [
    "l = [1,2,3,4]\n",
    "for i in l:\n",
    "    print(i)"
   ]
  }
 ],
 "metadata": {
  "kernelspec": {
   "display_name": "Python 3 (ipykernel)",
   "language": "python",
   "name": "python3"
  },
  "language_info": {
   "codemirror_mode": {
    "name": "ipython",
    "version": 3
   },
   "file_extension": ".py",
   "mimetype": "text/x-python",
   "name": "python",
   "nbconvert_exporter": "python",
   "pygments_lexer": "ipython3",
   "version": "3.11.7"
  }
 },
 "nbformat": 4,
 "nbformat_minor": 5
}
