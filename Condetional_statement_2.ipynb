{
 "cells": [
  {
   "cell_type": "code",
   "execution_count": 3,
   "id": "035e0633-76e5-46e4-ba38-0013c3efcb73",
   "metadata": {},
   "outputs": [
    {
     "name": "stdin",
     "output_type": "stream",
     "text": [
      "Enter your course name Python\n"
     ]
    },
    {
     "name": "stdout",
     "output_type": "stream",
     "text": [
      "Yes python course is Provided\n"
     ]
    }
   ],
   "source": [
    "course = input('Enter your course name')\n",
    "\n",
    "if course == 'Python':\n",
    "    print('Yes python course is Provided')\n",
    "elif course == 'Java':\n",
    "    print('Yes java course is provided')\n",
    "else:\n",
    "    print('Your course is not avilabel in our institute')"
   ]
  },
  {
   "cell_type": "code",
   "execution_count": 5,
   "id": "0461b86f-1704-4790-9fbe-eeca40c1b74a",
   "metadata": {},
   "outputs": [
    {
     "name": "stdin",
     "output_type": "stream",
     "text": [
      "Enter your Coupon Code NEW2024\n"
     ]
    },
    {
     "name": "stdout",
     "output_type": "stream",
     "text": [
      "You got 30% Offer \n"
     ]
    }
   ],
   "source": [
    "COUPON_code = input('Enter your Coupon Code')\n",
    "if COUPON_code == 'NEW2024':\n",
    "    print('You got 30% Offer ')\n",
    "else:\n",
    "    print('Coupon is not valid')"
   ]
  },
  {
   "cell_type": "markdown",
   "id": "eeb0f852-e1f6-42bb-9838-7c321b65f212",
   "metadata": {},
   "source": [
    "# For Loop"
   ]
  },
  {
   "cell_type": "code",
   "execution_count": 6,
   "id": "44f706c3-a0bd-44a4-87e7-c46ddbf4d596",
   "metadata": {},
   "outputs": [],
   "source": [
    "l = [1,2,3,4]"
   ]
  },
  {
   "cell_type": "code",
   "execution_count": 7,
   "id": "69cb869d-55da-48cb-a718-3467f60958ee",
   "metadata": {},
   "outputs": [
    {
     "name": "stdout",
     "output_type": "stream",
     "text": [
      "1\n",
      "2\n",
      "3\n",
      "4\n"
     ]
    }
   ],
   "source": [
    "for num in l:\n",
    "    print(num)"
   ]
  },
  {
   "cell_type": "code",
   "execution_count": 8,
   "id": "2f49084c-0498-403f-81fe-cf43d1c18e05",
   "metadata": {},
   "outputs": [
    {
     "name": "stdout",
     "output_type": "stream",
     "text": [
      "Hello\n",
      "Hello\n",
      "Hello\n",
      "Hello\n"
     ]
    }
   ],
   "source": [
    "for num in l:\n",
    "    print('Hello')"
   ]
  },
  {
   "cell_type": "code",
   "execution_count": 9,
   "id": "f8de4d01-6ee7-4e42-a830-4e4ac8f657e1",
   "metadata": {},
   "outputs": [
    {
     "data": {
      "text/plain": [
       "[1, 2, 3, 4]"
      ]
     },
     "execution_count": 9,
     "metadata": {},
     "output_type": "execute_result"
    }
   ],
   "source": [
    "l"
   ]
  },
  {
   "cell_type": "code",
   "execution_count": 10,
   "id": "1c33a41a-c7bf-4c72-8c2f-ada36a4dd004",
   "metadata": {},
   "outputs": [
    {
     "data": {
      "text/plain": [
       "range(1, 11)"
      ]
     },
     "execution_count": 10,
     "metadata": {},
     "output_type": "execute_result"
    }
   ],
   "source": [
    "range(1,11)"
   ]
  },
  {
   "cell_type": "code",
   "execution_count": 11,
   "id": "dedb8e76-afd2-4eee-8d97-ddc1d865509f",
   "metadata": {},
   "outputs": [
    {
     "data": {
      "text/plain": [
       "[1, 2, 3, 4, 5, 6, 7, 8, 9, 10]"
      ]
     },
     "execution_count": 11,
     "metadata": {},
     "output_type": "execute_result"
    }
   ],
   "source": [
    "list(range(1,11))"
   ]
  },
  {
   "cell_type": "code",
   "execution_count": 12,
   "id": "a8476c17-5382-4f4e-9a53-3bb07243a4ac",
   "metadata": {},
   "outputs": [
    {
     "name": "stdout",
     "output_type": "stream",
     "text": [
      "D\n",
      "a\n",
      "t\n",
      "a\n",
      "S\n",
      "c\n",
      "i\n",
      "e\n",
      "n\n",
      "c\n",
      "e\n"
     ]
    }
   ],
   "source": [
    "for letter in 'DataScience':\n",
    "    print(letter)"
   ]
  },
  {
   "cell_type": "code",
   "execution_count": 13,
   "id": "fea8be52-7fa8-4d82-a7dc-199be47430eb",
   "metadata": {},
   "outputs": [
    {
     "name": "stdout",
     "output_type": "stream",
     "text": [
      "0\n",
      "1\n",
      "2\n",
      "3\n",
      "4\n",
      "5\n"
     ]
    }
   ],
   "source": [
    "for i in range(0,6):\n",
    "    print(i)"
   ]
  },
  {
   "cell_type": "code",
   "execution_count": 14,
   "id": "6ce3fd94-7557-492c-b50e-91e7a3553eda",
   "metadata": {},
   "outputs": [
    {
     "name": "stdout",
     "output_type": "stream",
     "text": [
      "0\n",
      "1\n",
      "2\n",
      "3\n",
      "4\n",
      "5\n"
     ]
    }
   ],
   "source": [
    "for i in range(6):\n",
    "    print(i)"
   ]
  },
  {
   "cell_type": "code",
   "execution_count": 15,
   "id": "47f57e50-3d38-4ac0-a6ef-717ce64899d1",
   "metadata": {},
   "outputs": [
    {
     "name": "stdout",
     "output_type": "stream",
     "text": [
      "1\n",
      "2\n",
      "3\n",
      "4\n",
      "5\n",
      "6\n",
      "7\n",
      "8\n",
      "9\n",
      "10\n"
     ]
    }
   ],
   "source": [
    "for i in range(1,11):\n",
    "    print(i)"
   ]
  },
  {
   "cell_type": "code",
   "execution_count": 16,
   "id": "ef9b3031-cd33-4ffd-90ff-a5e141a741d3",
   "metadata": {},
   "outputs": [],
   "source": [
    "l = [1,2,3,4,5]"
   ]
  },
  {
   "cell_type": "code",
   "execution_count": 17,
   "id": "06a75d1a-455c-47b6-9c4f-7992307c5f9d",
   "metadata": {},
   "outputs": [
    {
     "name": "stdout",
     "output_type": "stream",
     "text": [
      "1\n",
      "3\n",
      "6\n",
      "10\n",
      "15\n"
     ]
    }
   ],
   "source": [
    "Total = 0\n",
    "for i in l:\n",
    "    Total = Total + i\n",
    "    print(Total)"
   ]
  },
  {
   "cell_type": "code",
   "execution_count": 23,
   "id": "bab529da-554c-4a80-841d-5ba322e48843",
   "metadata": {},
   "outputs": [],
   "source": [
    "mix = [1,1.5, True, 10 + 5j, 'Hello']"
   ]
  },
  {
   "cell_type": "code",
   "execution_count": 24,
   "id": "0dd3d3b3-36b9-421d-96ce-d7f24d8342cf",
   "metadata": {},
   "outputs": [
    {
     "data": {
      "text/plain": [
       "[1, 1.5, True, (10+5j), 'Hello']"
      ]
     },
     "execution_count": 24,
     "metadata": {},
     "output_type": "execute_result"
    }
   ],
   "source": [
    "mix"
   ]
  },
  {
   "cell_type": "code",
   "execution_count": 25,
   "id": "c0933145-4bff-4f62-b480-d036d7cbaebd",
   "metadata": {},
   "outputs": [
    {
     "name": "stdout",
     "output_type": "stream",
     "text": [
      "1\n",
      "1.5\n",
      "True\n",
      "(10+5j)\n",
      "Hello\n"
     ]
    }
   ],
   "source": [
    "for i in mix:\n",
    "    print(i)"
   ]
  },
  {
   "cell_type": "code",
   "execution_count": 26,
   "id": "f6acabca-a262-4e3a-8976-21d65810f5ec",
   "metadata": {},
   "outputs": [
    {
     "data": {
      "text/plain": [
       "list"
      ]
     },
     "execution_count": 26,
     "metadata": {},
     "output_type": "execute_result"
    }
   ],
   "source": [
    "type(mix)"
   ]
  },
  {
   "cell_type": "code",
   "execution_count": 27,
   "id": "c8ea74e0-221c-4362-afd7-9dbee38b3d74",
   "metadata": {},
   "outputs": [
    {
     "name": "stdout",
     "output_type": "stream",
     "text": [
      "<class 'int'>\n",
      "<class 'float'>\n",
      "<class 'bool'>\n",
      "<class 'complex'>\n",
      "<class 'str'>\n"
     ]
    }
   ],
   "source": [
    "for i in mix:\n",
    "    print(type(i))"
   ]
  },
  {
   "cell_type": "code",
   "execution_count": 28,
   "id": "858c79b9-4e2a-46fb-a819-483fb14f2fc7",
   "metadata": {},
   "outputs": [
    {
     "name": "stdout",
     "output_type": "stream",
     "text": [
      "<class 'int'> 1\n",
      "<class 'float'> 1.5\n",
      "<class 'bool'> True\n",
      "<class 'complex'> (10+5j)\n",
      "<class 'str'> Hello\n"
     ]
    }
   ],
   "source": [
    "for i in mix:\n",
    "    print(type(i), i)"
   ]
  },
  {
   "cell_type": "code",
   "execution_count": 31,
   "id": "b29b1645-7a08-43d3-b7be-d9672e03ea19",
   "metadata": {},
   "outputs": [
    {
     "name": "stdout",
     "output_type": "stream",
     "text": [
      "<class 'int'> Type of object 1\n",
      "<class 'float'> Type of object 1.5\n",
      "<class 'bool'> Type of object True\n",
      "<class 'complex'> Type of object (10+5j)\n",
      "<class 'str'> Type of object Hello\n"
     ]
    }
   ],
   "source": [
    "for i in mix:\n",
    "    print(type(i), 'Type of object' , i)"
   ]
  },
  {
   "cell_type": "code",
   "execution_count": 32,
   "id": "3c5ceca7-5c81-4701-baa9-d0db835a699e",
   "metadata": {},
   "outputs": [
    {
     "data": {
      "text/plain": [
       "[1, 2, 3, 4, 5]"
      ]
     },
     "execution_count": 32,
     "metadata": {},
     "output_type": "execute_result"
    }
   ],
   "source": [
    "l"
   ]
  },
  {
   "cell_type": "code",
   "execution_count": 33,
   "id": "774cbe98-5f3e-4463-b7a5-208baee0355a",
   "metadata": {},
   "outputs": [
    {
     "name": "stdout",
     "output_type": "stream",
     "text": [
      "101\n",
      "102\n",
      "103\n",
      "104\n",
      "105\n"
     ]
    }
   ],
   "source": [
    "for i in l:\n",
    "    print(i + 100)"
   ]
  },
  {
   "cell_type": "code",
   "execution_count": 34,
   "id": "1988b907-9b48-4401-b195-3351772cff86",
   "metadata": {},
   "outputs": [
    {
     "data": {
      "text/plain": [
       "[1, 1.5, True, (10+5j), 'Hello']"
      ]
     },
     "execution_count": 34,
     "metadata": {},
     "output_type": "execute_result"
    }
   ],
   "source": [
    "mix"
   ]
  },
  {
   "cell_type": "code",
   "execution_count": 35,
   "id": "2c32726e-7f55-4bf7-a31f-7f5495783136",
   "metadata": {},
   "outputs": [
    {
     "name": "stdout",
     "output_type": "stream",
     "text": [
      "1\n"
     ]
    }
   ],
   "source": [
    "for i in mix:\n",
    "    if type(i) == int:\n",
    "        print(i)"
   ]
  },
  {
   "cell_type": "code",
   "execution_count": 36,
   "id": "cf2858ef-82b6-405e-895f-f12e7b8140f6",
   "metadata": {},
   "outputs": [],
   "source": [
    "k = ['Hello', 'Name', 1,1.5, 10 + 8j]"
   ]
  },
  {
   "cell_type": "code",
   "execution_count": 37,
   "id": "c229cc8f-36d0-45d4-a0ec-6c4ed44ce377",
   "metadata": {},
   "outputs": [
    {
     "name": "stdout",
     "output_type": "stream",
     "text": [
      "Hello\n",
      "Name\n",
      "1\n",
      "1.5\n",
      "(10+8j)\n"
     ]
    }
   ],
   "source": [
    "for i in k:\n",
    "    print(i)"
   ]
  },
  {
   "cell_type": "code",
   "execution_count": 38,
   "id": "358bf384-4400-4e99-a81f-800b81620d1e",
   "metadata": {},
   "outputs": [
    {
     "name": "stdout",
     "output_type": "stream",
     "text": [
      "Hello\n",
      "Name\n"
     ]
    }
   ],
   "source": [
    "for i in k:\n",
    "    if type(i) == str:\n",
    "        print(i)"
   ]
  },
  {
   "cell_type": "code",
   "execution_count": 39,
   "id": "7b2a9bdd-86fd-4259-84ba-c68bb3b85a1d",
   "metadata": {},
   "outputs": [
    {
     "name": "stdout",
     "output_type": "stream",
     "text": [
      "Letter is a\n",
      "Letter is a\n"
     ]
    }
   ],
   "source": [
    "for i in 'Data':\n",
    "    if i == 'a':\n",
    "        print('Letter is', i)"
   ]
  },
  {
   "cell_type": "code",
   "execution_count": 40,
   "id": "7bd72ccf-01e6-48f5-8be9-03d1df3e6ff7",
   "metadata": {},
   "outputs": [],
   "source": [
    "l = [1,[1,2,3], (1,2,3), {'A':10, 'B':20, 'C':30}]"
   ]
  },
  {
   "cell_type": "code",
   "execution_count": 41,
   "id": "ab8e7648-85a6-4ef8-8121-65933008209f",
   "metadata": {},
   "outputs": [
    {
     "data": {
      "text/plain": [
       "[1, [1, 2, 3], (1, 2, 3), {'A': 10, 'B': 20, 'C': 30}]"
      ]
     },
     "execution_count": 41,
     "metadata": {},
     "output_type": "execute_result"
    }
   ],
   "source": [
    "l"
   ]
  },
  {
   "cell_type": "code",
   "execution_count": 42,
   "id": "06d4ac28-9da8-4a31-837c-cdd13a1b876f",
   "metadata": {},
   "outputs": [
    {
     "name": "stdout",
     "output_type": "stream",
     "text": [
      "<class 'int'>\n",
      "<class 'list'>\n",
      "<class 'tuple'>\n",
      "<class 'dict'>\n"
     ]
    }
   ],
   "source": [
    "for i in l:\n",
    "    print(type(i))"
   ]
  },
  {
   "cell_type": "code",
   "execution_count": 43,
   "id": "b40e9bad-cbdf-487a-9be4-83b8e7fd212e",
   "metadata": {},
   "outputs": [
    {
     "name": "stdout",
     "output_type": "stream",
     "text": [
      "1\n",
      "2\n",
      "3\n"
     ]
    }
   ],
   "source": [
    "for i in l:\n",
    "    if type(i) == list:\n",
    "        for values in i:\n",
    "            print(values)"
   ]
  },
  {
   "cell_type": "code",
   "execution_count": 44,
   "id": "722fda16-d3b6-4da2-9ca6-51568c80c43e",
   "metadata": {},
   "outputs": [
    {
     "name": "stdout",
     "output_type": "stream",
     "text": [
      "1\n",
      "[1, 2, 3]\n",
      "(1, 2, 3)\n",
      "{'A': 10, 'B': 20, 'C': 30}\n"
     ]
    }
   ],
   "source": [
    "for i in l:\n",
    "    print(i)"
   ]
  },
  {
   "cell_type": "code",
   "execution_count": null,
   "id": "c974ade5-083f-4f93-b060-1d67b4e4867c",
   "metadata": {},
   "outputs": [],
   "source": []
  }
 ],
 "metadata": {
  "kernelspec": {
   "display_name": "Python 3 (ipykernel)",
   "language": "python",
   "name": "python3"
  },
  "language_info": {
   "codemirror_mode": {
    "name": "ipython",
    "version": 3
   },
   "file_extension": ".py",
   "mimetype": "text/x-python",
   "name": "python",
   "nbconvert_exporter": "python",
   "pygments_lexer": "ipython3",
   "version": "3.11.7"
  }
 },
 "nbformat": 4,
 "nbformat_minor": 5
}
