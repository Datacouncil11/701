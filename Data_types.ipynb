{
 "cells": [
  {
   "cell_type": "markdown",
   "id": "914a73fa-703c-49d5-85de-be2d2f23fbd3",
   "metadata": {},
   "source": [
    "# Data Types"
   ]
  },
  {
   "cell_type": "markdown",
   "id": "85d54f67-daee-49ce-b4c2-7496a83477a2",
   "metadata": {},
   "source": [
    "Today we are going to learn data types"
   ]
  },
  {
   "cell_type": "raw",
   "id": "9cd34ec9-add1-4657-81ae-b81067ae123d",
   "metadata": {},
   "source": [
    "x --> 8y83e\n",
    "y -->87387jdh"
   ]
  },
  {
   "cell_type": "code",
   "execution_count": 2,
   "id": "bb06fa98-155c-4429-8017-3a18adf74ca1",
   "metadata": {},
   "outputs": [
    {
     "data": {
      "text/plain": [
       "50"
      ]
     },
     "execution_count": 2,
     "metadata": {},
     "output_type": "execute_result"
    }
   ],
   "source": [
    "10 * 5"
   ]
  },
  {
   "cell_type": "code",
   "execution_count": 3,
   "id": "53468b06-03f9-4c74-b6bf-597bd8d97cf2",
   "metadata": {},
   "outputs": [
    {
     "data": {
      "text/plain": [
       "17"
      ]
     },
     "execution_count": 3,
     "metadata": {},
     "output_type": "execute_result"
    }
   ],
   "source": [
    "10 + 7"
   ]
  },
  {
   "cell_type": "markdown",
   "id": "2eaa2d09-b9c0-4a0d-a4f1-7e16e26f637d",
   "metadata": {},
   "source": [
    "# Integer"
   ]
  },
  {
   "cell_type": "raw",
   "id": "b5cda0af-f67d-4a97-953d-e709ecd6d099",
   "metadata": {},
   "source": [
    "Complete Number\n",
    "Ex: Family Members: 4\n",
    "Ex: Bank Account: 2"
   ]
  },
  {
   "cell_type": "code",
   "execution_count": 4,
   "id": "3493cd19-87c9-4091-98d0-0e75cfbe7834",
   "metadata": {},
   "outputs": [
    {
     "data": {
      "text/plain": [
       "5"
      ]
     },
     "execution_count": 4,
     "metadata": {},
     "output_type": "execute_result"
    }
   ],
   "source": [
    "5"
   ]
  },
  {
   "cell_type": "code",
   "execution_count": 5,
   "id": "ec98f415-69cf-4cbb-ae64-e5636b3e56ac",
   "metadata": {},
   "outputs": [
    {
     "data": {
      "text/plain": [
       "int"
      ]
     },
     "execution_count": 5,
     "metadata": {},
     "output_type": "execute_result"
    }
   ],
   "source": [
    "type(5)"
   ]
  },
  {
   "cell_type": "markdown",
   "id": "eded51ab-4a4b-4b62-81a9-bacd2807fb71",
   "metadata": {},
   "source": [
    "# Float"
   ]
  },
  {
   "cell_type": "raw",
   "id": "03070026-2834-42b2-a28f-af609697ed1a",
   "metadata": {},
   "source": [
    "float is in decimal numbers\n",
    "Ex: Height --> 5.7\n",
    "Ex: Weight --> 64.231\n",
    "Ex: Temperture --> 29.4"
   ]
  },
  {
   "cell_type": "code",
   "execution_count": 6,
   "id": "69264206-0099-4e7c-9d91-1f8caec75de1",
   "metadata": {},
   "outputs": [
    {
     "data": {
      "text/plain": [
       "float"
      ]
     },
     "execution_count": 6,
     "metadata": {},
     "output_type": "execute_result"
    }
   ],
   "source": [
    "type(23.12)"
   ]
  },
  {
   "cell_type": "code",
   "execution_count": null,
   "id": "247b9275-555d-48f4-9caf-9fc3a68a9cea",
   "metadata": {},
   "outputs": [],
   "source": []
  }
 ],
 "metadata": {
  "kernelspec": {
   "display_name": "Python 3 (ipykernel)",
   "language": "python",
   "name": "python3"
  },
  "language_info": {
   "codemirror_mode": {
    "name": "ipython",
    "version": 3
   },
   "file_extension": ".py",
   "mimetype": "text/x-python",
   "name": "python",
   "nbconvert_exporter": "python",
   "pygments_lexer": "ipython3",
   "version": "3.11.7"
  }
 },
 "nbformat": 4,
 "nbformat_minor": 5
}
